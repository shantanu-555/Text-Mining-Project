{
 "cells": [
  {
   "cell_type": "code",
   "execution_count": 1,
   "id": "37df3844",
   "metadata": {},
   "outputs": [],
   "source": [
    "import textstat as txs"
   ]
  },
  {
   "cell_type": "markdown",
   "id": "dc80feb3",
   "metadata": {},
   "source": [
    "## Readability Indexes Used:\n",
    "1. https://en.wikipedia.org/wiki/Dale%E2%80%93Chall_readability_formula\n",
    "2. https://en.wikipedia.org/wiki/Gunning_fog_index\n",
    "3. https://en.wikipedia.org/wiki/Automated_readability_index"
   ]
  },
  {
   "cell_type": "code",
   "execution_count": 38,
   "id": "763ed02e",
   "metadata": {},
   "outputs": [
    {
     "name": "stdout",
     "output_type": "stream",
     "text": [
      "Statistics for Michael's dialogues:\n",
      "____________________________________________\n",
      "Gunning Fog index score = 3.8\n",
      "Automated Readability score = 3.1\n",
      "Dale–Chall readability score = 7.0\n"
     ]
    }
   ],
   "source": [
    "def dialogue_stats(character):\n",
    "    with open(f'./character_lines/{character}_lines.txt', 'r') as file:\n",
    "        text = file.readlines()\n",
    "    length = len(text)\n",
    "    \n",
    "    def gunning_fog():\n",
    "        gf_score_total = 0\n",
    "        for i in text:\n",
    "            temp = txs.gunning_fog(i)\n",
    "            gf_score_total += temp\n",
    "        gf_score = gf_score_total/length\n",
    "        print(f\"Gunning Fog index score = {round(gf_score, 1)}\")\n",
    "    \n",
    "    def automated_readablity():\n",
    "        ar_score_total = 0\n",
    "        for i in text:\n",
    "            temp = txs.automated_readability_index(i)\n",
    "            ar_score_total += temp\n",
    "        ar_score = ar_score_total/length\n",
    "        print(f\"Automated Readability score = {round(ar_score, 1)}\")\n",
    "        \n",
    "    def dc_readablity():\n",
    "        dc_score_total = 0\n",
    "        for i in text:\n",
    "            temp = txs.dale_chall_readability_score(i)\n",
    "            dc_score_total += temp\n",
    "        dc_score = dc_score_total/length\n",
    "        print(f\"Dale–Chall Readability score = {round(dc_score, 1)}\")\n",
    "    \n",
    "    print(f\"Statistics for {character}'s dialogues:\\n____________________________________________\")\n",
    "    \n",
    "    gunning_fog()\n",
    "    automated_readablity()\n",
    "    dc_readablity()\n",
    "\n",
    "dialogue_stats(\"Michael\")"
   ]
  }
 ],
 "metadata": {
  "kernelspec": {
   "display_name": "Python 3 (ipykernel)",
   "language": "python",
   "name": "python3"
  },
  "language_info": {
   "codemirror_mode": {
    "name": "ipython",
    "version": 3
   },
   "file_extension": ".py",
   "mimetype": "text/x-python",
   "name": "python",
   "nbconvert_exporter": "python",
   "pygments_lexer": "ipython3",
   "version": "3.8.16"
  }
 },
 "nbformat": 4,
 "nbformat_minor": 5
}
