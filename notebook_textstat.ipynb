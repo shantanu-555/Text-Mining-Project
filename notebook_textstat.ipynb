{
 "cells": [
  {
   "cell_type": "code",
   "execution_count": 1,
   "id": "37df3844",
   "metadata": {},
   "outputs": [],
   "source": [
    "import textstat as txs"
   ]
  },
  {
   "cell_type": "markdown",
   "id": "dc80feb3",
   "metadata": {},
   "source": [
    "## Readability Indexes Used:\n",
    "1. https://en.wikipedia.org/wiki/Dale%E2%80%93Chall_readability_formula\n",
    "2. https://en.wikipedia.org/wiki/Gunning_fog_index\n",
    "3. https://en.wikipedia.org/wiki/Automated_readability_index"
   ]
  },
  {
   "cell_type": "code",
   "execution_count": 11,
   "id": "763ed02e",
   "metadata": {},
   "outputs": [
    {
     "name": "stdout",
     "output_type": "stream",
     "text": [
      "Statistics for Creed's dialogues:\n",
      "____________________________________________\n",
      "Gunning Fog index score = 3.6 (School grade required to comprehend)\n",
      "Automated Readability score = 3.2 (School grade required to comprehend)\n",
      "____________________________________________\n",
      "Average syllables in dialogues = 14\n",
      "Percentage of mno-syllable words in dialogues = 0.1% (words with 1 syllable)\n"
     ]
    }
   ],
   "source": [
    "def dialogue_stats(character):\n",
    "    with open(f'./character_lines/{character}_lines.txt', 'r') as file:\n",
    "        text = file.readlines()\n",
    "    length = len(text)\n",
    "    \n",
    "    def gunning_fog():\n",
    "        gf_score_total = 0\n",
    "        for i in text:\n",
    "            temp = txs.gunning_fog(i)\n",
    "            gf_score_total += temp\n",
    "        gf_score = gf_score_total/length\n",
    "        return(f\"Gunning Fog index score = {round(gf_score, 1)} (School grade required to comprehend)\")\n",
    "    \n",
    "    def automated_readablity():\n",
    "        ar_score_total = 0\n",
    "        for i in text:\n",
    "            temp = txs.automated_readability_index(i)\n",
    "            ar_score_total += temp\n",
    "        ar_score = ar_score_total/length\n",
    "        return(f\"Automated Readability score = {round(ar_score, 1)} (School grade required to comprehend)\")\n",
    "        \n",
    "    def dc_readablity():\n",
    "        dc_score_total = 0\n",
    "        for i in text:\n",
    "            temp = txs.dale_chall_readability_score(i)\n",
    "            dc_score_total += temp\n",
    "        dc_score = dc_score_total/length\n",
    "        return(f\"Dale–Chall Readability score = {round(dc_score, 1)} (School grade required to comprehend)\")\n",
    "        \n",
    "    def reading_time():\n",
    "        time_total = 0\n",
    "        for i in text:\n",
    "            temp = txs.reading_time(i, ms_per_char=14.69)\n",
    "            time_total += temp\n",
    "        time = time_total/length\n",
    "        return(f\"Average Reading time for dialogues = {round(time, 2)} (in minutes)\")\n",
    "        \n",
    "    def syllable_count():\n",
    "        syllable_total = 0\n",
    "        for i in text:\n",
    "            temp = txs.syllable_count(i)\n",
    "            syllable_total += temp\n",
    "        average_syllables = syllable_total/length\n",
    "        return(f\"Average syllables in dialogues = {int(round(average_syllables, 0))}\")\n",
    "        \n",
    "    def polysyllable_percent():\n",
    "        poly_total = 0\n",
    "        words_total = 0\n",
    "        for i in text:\n",
    "            temp = txs.polysyllabcount(i)\n",
    "            poly_total += temp\n",
    "            words_total += len(i)\n",
    "        poly_percent = poly_total/words_total\n",
    "        return(f\"Percentage of poly-syllable words in dialogues = {round(poly_percent, 1)}% (words with 3 or more syllables)\")\n",
    "        \n",
    "    def monosyllable_percent():\n",
    "        mono_total = 0\n",
    "        words_total = 0\n",
    "        for i in text:\n",
    "            temp = txs.monosyllabcount(i)\n",
    "            mono_total += temp\n",
    "            words_total += len(i)\n",
    "        mono_percent = mono_total/words_total\n",
    "        return(f\"Percentage of mno-syllable words in dialogues = {round(mono_percent, 1)}% (words with 1 syllable)\")\n",
    "    \n",
    "    return(f\"Statistics for {character}'s dialogues:\\n____________________________________________\")\n",
    "    \n",
    "    gunning_fog()\n",
    "    automated_readablity()\n",
    "    \n",
    "    return(\"____________________________________________\")\n",
    "    \n",
    "    syllable_count()\n",
    "    monosyllable_percent()\n",
    "    # polysyllable_percent()\n",
    "\n",
    "dialogue_stats(\"Creed\")"
   ]
  }
 ],
 "metadata": {
  "kernelspec": {
   "display_name": "Python 3 (ipykernel)",
   "language": "python",
   "name": "python3"
  },
  "language_info": {
   "codemirror_mode": {
    "name": "ipython",
    "version": 3
   },
   "file_extension": ".py",
   "mimetype": "text/x-python",
   "name": "python",
   "nbconvert_exporter": "python",
   "pygments_lexer": "ipython3",
   "version": "3.8.16"
  }
 },
 "nbformat": 4,
 "nbformat_minor": 5
}
