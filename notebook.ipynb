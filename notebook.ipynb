{
 "cells": [
  {
   "cell_type": "markdown",
   "id": "02435395",
   "metadata": {},
   "source": [
    "# \"That's what she said!\" - The Office Script Analysis\n",
    "## ~ Eline, Luuk and Shantanu"
   ]
  },
  {
   "cell_type": "markdown",
   "id": "91c9474f",
   "metadata": {},
   "source": [
    " "
   ]
  },
  {
   "cell_type": "code",
<<<<<<< Updated upstream
   "execution_count": 15,
   "id": "4842415b",
   "metadata": {},
   "outputs": [],
   "source": [
    "%matplotlib inline"
   ]
  },
  {
   "cell_type": "code",
   "execution_count": null,
   "id": "262fe78a",
   "metadata": {},
   "outputs": [],
   "source": [
    "pip install ydata_profiling"
   ]
  },
  {
   "cell_type": "code",
   "execution_count": 3,
   "id": "326d2430",
=======
   "execution_count": 13,
   "id": "76e99e27",
>>>>>>> Stashed changes
   "metadata": {},
   "outputs": [],
   "source": [
    "import pandas as pd\n",
    "import numpy as np\n",
    "%matplotlib inline\n",
    "import matplotlib.pyplot as plt\n",
    "import seaborn as sns\n",
    "from ydata_profiling import ProfileReport"
   ]
  },
  {
   "cell_type": "code",
<<<<<<< Updated upstream
   "execution_count": 4,
   "id": "f76e0820",
=======
   "execution_count": 14,
   "id": "be527dae",
>>>>>>> Stashed changes
   "metadata": {},
   "outputs": [
    {
     "data": {
      "text/html": [
       "<div>\n",
       "<style scoped>\n",
       "    .dataframe tbody tr th:only-of-type {\n",
       "        vertical-align: middle;\n",
       "    }\n",
       "\n",
       "    .dataframe tbody tr th {\n",
       "        vertical-align: top;\n",
       "    }\n",
       "\n",
       "    .dataframe thead th {\n",
       "        text-align: right;\n",
       "    }\n",
       "</style>\n",
       "<table border=\"1\" class=\"dataframe\">\n",
       "  <thead>\n",
       "    <tr style=\"text-align: right;\">\n",
       "      <th></th>\n",
       "      <th>id</th>\n",
       "      <th>season</th>\n",
       "      <th>episode</th>\n",
       "      <th>scene</th>\n",
       "      <th>line_text</th>\n",
       "      <th>speaker</th>\n",
       "      <th>deleted</th>\n",
       "    </tr>\n",
       "  </thead>\n",
       "  <tbody>\n",
       "    <tr>\n",
       "      <th>0</th>\n",
       "      <td>1</td>\n",
       "      <td>1</td>\n",
       "      <td>1</td>\n",
       "      <td>1</td>\n",
       "      <td>All right Jim. Your quarterlies look very good...</td>\n",
       "      <td>Michael</td>\n",
       "      <td>False</td>\n",
       "    </tr>\n",
       "    <tr>\n",
       "      <th>1</th>\n",
       "      <td>2</td>\n",
       "      <td>1</td>\n",
       "      <td>1</td>\n",
       "      <td>1</td>\n",
       "      <td>Oh, I told you. I couldn't close it. So...</td>\n",
       "      <td>Jim</td>\n",
       "      <td>False</td>\n",
       "    </tr>\n",
       "    <tr>\n",
       "      <th>2</th>\n",
       "      <td>3</td>\n",
       "      <td>1</td>\n",
       "      <td>1</td>\n",
       "      <td>1</td>\n",
       "      <td>So you've come to the master for guidance? Is ...</td>\n",
       "      <td>Michael</td>\n",
       "      <td>False</td>\n",
       "    </tr>\n",
       "    <tr>\n",
       "      <th>3</th>\n",
       "      <td>4</td>\n",
       "      <td>1</td>\n",
       "      <td>1</td>\n",
       "      <td>1</td>\n",
       "      <td>Actually, you called me in here, but yeah.</td>\n",
       "      <td>Jim</td>\n",
       "      <td>False</td>\n",
       "    </tr>\n",
       "    <tr>\n",
       "      <th>4</th>\n",
       "      <td>5</td>\n",
       "      <td>1</td>\n",
       "      <td>1</td>\n",
       "      <td>1</td>\n",
       "      <td>All right. Well, let me show you how it's done.</td>\n",
       "      <td>Michael</td>\n",
       "      <td>False</td>\n",
       "    </tr>\n",
       "    <tr>\n",
       "      <th>5</th>\n",
       "      <td>6</td>\n",
       "      <td>1</td>\n",
       "      <td>1</td>\n",
       "      <td>2</td>\n",
       "      <td>[on the phone] Yes, I'd like to speak to your ...</td>\n",
       "      <td>Michael</td>\n",
       "      <td>False</td>\n",
       "    </tr>\n",
       "    <tr>\n",
       "      <th>6</th>\n",
       "      <td>7</td>\n",
       "      <td>1</td>\n",
       "      <td>1</td>\n",
       "      <td>3</td>\n",
       "      <td>I've, uh, I've been at Dunder Mifflin for 12 y...</td>\n",
       "      <td>Michael</td>\n",
       "      <td>False</td>\n",
       "    </tr>\n",
       "    <tr>\n",
       "      <th>7</th>\n",
       "      <td>8</td>\n",
       "      <td>1</td>\n",
       "      <td>1</td>\n",
       "      <td>3</td>\n",
       "      <td>Well. I don't know.</td>\n",
       "      <td>Pam</td>\n",
       "      <td>False</td>\n",
       "    </tr>\n",
       "    <tr>\n",
       "      <th>8</th>\n",
       "      <td>9</td>\n",
       "      <td>1</td>\n",
       "      <td>1</td>\n",
       "      <td>3</td>\n",
       "      <td>If you think she's cute now, you should have s...</td>\n",
       "      <td>Michael</td>\n",
       "      <td>False</td>\n",
       "    </tr>\n",
       "    <tr>\n",
       "      <th>9</th>\n",
       "      <td>10</td>\n",
       "      <td>1</td>\n",
       "      <td>1</td>\n",
       "      <td>3</td>\n",
       "      <td>What?</td>\n",
       "      <td>Pam</td>\n",
       "      <td>False</td>\n",
       "    </tr>\n",
       "  </tbody>\n",
       "</table>\n",
       "</div>"
      ],
      "text/plain": [
       "   id  season  episode  scene  \\\n",
       "0   1       1        1      1   \n",
       "1   2       1        1      1   \n",
       "2   3       1        1      1   \n",
       "3   4       1        1      1   \n",
       "4   5       1        1      1   \n",
       "5   6       1        1      2   \n",
       "6   7       1        1      3   \n",
       "7   8       1        1      3   \n",
       "8   9       1        1      3   \n",
       "9  10       1        1      3   \n",
       "\n",
       "                                           line_text  speaker  deleted  \n",
       "0  All right Jim. Your quarterlies look very good...  Michael    False  \n",
       "1         Oh, I told you. I couldn't close it. So...      Jim    False  \n",
       "2  So you've come to the master for guidance? Is ...  Michael    False  \n",
       "3         Actually, you called me in here, but yeah.      Jim    False  \n",
       "4    All right. Well, let me show you how it's done.  Michael    False  \n",
       "5  [on the phone] Yes, I'd like to speak to your ...  Michael    False  \n",
       "6  I've, uh, I've been at Dunder Mifflin for 12 y...  Michael    False  \n",
       "7                                Well. I don't know.      Pam    False  \n",
       "8  If you think she's cute now, you should have s...  Michael    False  \n",
       "9                                              What?      Pam    False  "
      ]
     },
<<<<<<< Updated upstream
     "execution_count": 4,
=======
     "execution_count": 14,
>>>>>>> Stashed changes
     "metadata": {},
     "output_type": "execute_result"
    }
   ],
   "source": [
    "df = pd.read_csv(\"The_Office_lines.csv\")\n",
    "df.head(10)"
   ]
  },
  {
   "cell_type": "code",
<<<<<<< Updated upstream
   "execution_count": 5,
   "id": "826c8c5e",
=======
   "execution_count": 9,
   "id": "244e0d5a",
>>>>>>> Stashed changes
   "metadata": {},
   "outputs": [
    {
     "data": {
      "application/vnd.jupyter.widget-view+json": {
<<<<<<< Updated upstream
       "model_id": "ca9afe60e7f347569d7982e5b1da0ec0",
=======
       "model_id": "8a9b4570a51247b493426bf78e4e373e",
>>>>>>> Stashed changes
       "version_major": 2,
       "version_minor": 0
      },
      "text/plain": [
       "Summarize dataset:   0%|          | 0/5 [00:00<?, ?it/s]"
      ]
     },
     "metadata": {},
     "output_type": "display_data"
    },
    {
     "data": {
      "application/vnd.jupyter.widget-view+json": {
<<<<<<< Updated upstream
       "model_id": "ff7fb61a21ad4101b27442574074f9e5",
=======
       "model_id": "63e5d11c8612403fa2e74c5339a371d0",
>>>>>>> Stashed changes
       "version_major": 2,
       "version_minor": 0
      },
      "text/plain": [
       "Generate report structure:   0%|          | 0/1 [00:00<?, ?it/s]"
      ]
     },
     "metadata": {},
     "output_type": "display_data"
    },
    {
     "data": {
      "application/vnd.jupyter.widget-view+json": {
<<<<<<< Updated upstream
       "model_id": "870d3aa58a364171a0639a65e652d88f",
=======
       "model_id": "af16626cff874584a9a45ee8d767c7e1",
>>>>>>> Stashed changes
       "version_major": 2,
       "version_minor": 0
      },
      "text/plain": [
       "Render HTML:   0%|          | 0/1 [00:00<?, ?it/s]"
      ]
     },
     "metadata": {},
     "output_type": "display_data"
    },
    {
     "data": {
      "application/vnd.jupyter.widget-view+json": {
<<<<<<< Updated upstream
       "model_id": "4d01b2c74c8441108a42b3a24edfeccb",
=======
       "model_id": "fdd427dbdb814d68ab4c374a1b74a1ee",
>>>>>>> Stashed changes
       "version_major": 2,
       "version_minor": 0
      },
      "text/plain": [
       "Export report to file:   0%|          | 0/1 [00:00<?, ?it/s]"
      ]
     },
     "metadata": {},
     "output_type": "display_data"
    }
   ],
   "source": [
    "profile = ProfileReport(df, title=\"Profiling Report\")\n",
    "# profile.to_file(\"data_report.html\")"
   ]
  },
  {
   "cell_type": "code",
   "execution_count": 30,
   "id": "7c8a1444",
   "metadata": {
    "scrolled": false
   },
   "outputs": [
    {
     "ename": "ValueError",
     "evalue": "2 columns passed, passed data had 1 columns",
     "output_type": "error",
     "traceback": [
      "\u001b[1;31m---------------------------------------------------------------------------\u001b[0m",
      "\u001b[1;31mAssertionError\u001b[0m                            Traceback (most recent call last)",
      "\u001b[1;32m~\\anaconda3\\lib\\site-packages\\pandas\\core\\internals\\construction.py\u001b[0m in \u001b[0;36m_finalize_columns_and_data\u001b[1;34m(content, columns, dtype)\u001b[0m\n\u001b[0;32m    968\u001b[0m     \u001b[1;32mtry\u001b[0m\u001b[1;33m:\u001b[0m\u001b[1;33m\u001b[0m\u001b[1;33m\u001b[0m\u001b[0m\n\u001b[1;32m--> 969\u001b[1;33m         \u001b[0mcolumns\u001b[0m \u001b[1;33m=\u001b[0m \u001b[0m_validate_or_indexify_columns\u001b[0m\u001b[1;33m(\u001b[0m\u001b[0mcontents\u001b[0m\u001b[1;33m,\u001b[0m \u001b[0mcolumns\u001b[0m\u001b[1;33m)\u001b[0m\u001b[1;33m\u001b[0m\u001b[1;33m\u001b[0m\u001b[0m\n\u001b[0m\u001b[0;32m    970\u001b[0m     \u001b[1;32mexcept\u001b[0m \u001b[0mAssertionError\u001b[0m \u001b[1;32mas\u001b[0m \u001b[0merr\u001b[0m\u001b[1;33m:\u001b[0m\u001b[1;33m\u001b[0m\u001b[1;33m\u001b[0m\u001b[0m\n",
      "\u001b[1;32m~\\anaconda3\\lib\\site-packages\\pandas\\core\\internals\\construction.py\u001b[0m in \u001b[0;36m_validate_or_indexify_columns\u001b[1;34m(content, columns)\u001b[0m\n\u001b[0;32m   1016\u001b[0m             \u001b[1;31m# caller's responsibility to check for this...\u001b[0m\u001b[1;33m\u001b[0m\u001b[1;33m\u001b[0m\u001b[1;33m\u001b[0m\u001b[0m\n\u001b[1;32m-> 1017\u001b[1;33m             raise AssertionError(\n\u001b[0m\u001b[0;32m   1018\u001b[0m                 \u001b[1;34mf\"{len(columns)} columns passed, passed data had \"\u001b[0m\u001b[1;33m\u001b[0m\u001b[1;33m\u001b[0m\u001b[0m\n",
      "\u001b[1;31mAssertionError\u001b[0m: 2 columns passed, passed data had 1 columns",
      "\nThe above exception was the direct cause of the following exception:\n",
      "\u001b[1;31mValueError\u001b[0m                                Traceback (most recent call last)",
      "\u001b[1;32m~\\AppData\\Local\\Temp\\ipykernel_8244\\177237416.py\u001b[0m in \u001b[0;36m<module>\u001b[1;34m\u001b[0m\n\u001b[0;32m      5\u001b[0m     \u001b[0msentiments\u001b[0m\u001b[1;33m.\u001b[0m\u001b[0mappend\u001b[0m\u001b[1;33m(\u001b[0m\u001b[0msentiment_analysis\u001b[0m\u001b[1;33m(\u001b[0m\u001b[0mline\u001b[0m\u001b[1;33m)\u001b[0m\u001b[1;33m)\u001b[0m\u001b[1;33m\u001b[0m\u001b[1;33m\u001b[0m\u001b[0m\n\u001b[0;32m      6\u001b[0m \u001b[1;33m\u001b[0m\u001b[0m\n\u001b[1;32m----> 7\u001b[1;33m \u001b[0msentiments_df\u001b[0m \u001b[1;33m=\u001b[0m \u001b[0mpd\u001b[0m\u001b[1;33m.\u001b[0m\u001b[0mDataFrame\u001b[0m\u001b[1;33m(\u001b[0m\u001b[0msentiments\u001b[0m\u001b[1;33m,\u001b[0m \u001b[0mcolumns\u001b[0m \u001b[1;33m=\u001b[0m \u001b[1;33m[\u001b[0m\u001b[1;34m'label'\u001b[0m\u001b[1;33m,\u001b[0m \u001b[1;34m'score'\u001b[0m\u001b[1;33m]\u001b[0m\u001b[1;33m)\u001b[0m\u001b[1;33m\u001b[0m\u001b[1;33m\u001b[0m\u001b[0m\n\u001b[0m",
      "\u001b[1;32m~\\anaconda3\\lib\\site-packages\\pandas\\core\\frame.py\u001b[0m in \u001b[0;36m__init__\u001b[1;34m(self, data, index, columns, dtype, copy)\u001b[0m\n\u001b[0;32m    743\u001b[0m                     \u001b[1;32mif\u001b[0m \u001b[0mcolumns\u001b[0m \u001b[1;32mis\u001b[0m \u001b[1;32mnot\u001b[0m \u001b[1;32mNone\u001b[0m\u001b[1;33m:\u001b[0m\u001b[1;33m\u001b[0m\u001b[1;33m\u001b[0m\u001b[0m\n\u001b[0;32m    744\u001b[0m                         \u001b[0mcolumns\u001b[0m \u001b[1;33m=\u001b[0m \u001b[0mensure_index\u001b[0m\u001b[1;33m(\u001b[0m\u001b[0mcolumns\u001b[0m\u001b[1;33m)\u001b[0m\u001b[1;33m\u001b[0m\u001b[1;33m\u001b[0m\u001b[0m\n\u001b[1;32m--> 745\u001b[1;33m                     arrays, columns, index = nested_data_to_arrays(\n\u001b[0m\u001b[0;32m    746\u001b[0m                         \u001b[1;31m# error: Argument 3 to \"nested_data_to_arrays\" has incompatible\u001b[0m\u001b[1;33m\u001b[0m\u001b[1;33m\u001b[0m\u001b[1;33m\u001b[0m\u001b[0m\n\u001b[0;32m    747\u001b[0m                         \u001b[1;31m# type \"Optional[Collection[Any]]\"; expected \"Optional[Index]\"\u001b[0m\u001b[1;33m\u001b[0m\u001b[1;33m\u001b[0m\u001b[1;33m\u001b[0m\u001b[0m\n",
      "\u001b[1;32m~\\anaconda3\\lib\\site-packages\\pandas\\core\\internals\\construction.py\u001b[0m in \u001b[0;36mnested_data_to_arrays\u001b[1;34m(data, columns, index, dtype)\u001b[0m\n\u001b[0;32m    508\u001b[0m         \u001b[0mcolumns\u001b[0m \u001b[1;33m=\u001b[0m \u001b[0mensure_index\u001b[0m\u001b[1;33m(\u001b[0m\u001b[0mdata\u001b[0m\u001b[1;33m[\u001b[0m\u001b[1;36m0\u001b[0m\u001b[1;33m]\u001b[0m\u001b[1;33m.\u001b[0m\u001b[0m_fields\u001b[0m\u001b[1;33m)\u001b[0m\u001b[1;33m\u001b[0m\u001b[1;33m\u001b[0m\u001b[0m\n\u001b[0;32m    509\u001b[0m \u001b[1;33m\u001b[0m\u001b[0m\n\u001b[1;32m--> 510\u001b[1;33m     \u001b[0marrays\u001b[0m\u001b[1;33m,\u001b[0m \u001b[0mcolumns\u001b[0m \u001b[1;33m=\u001b[0m \u001b[0mto_arrays\u001b[0m\u001b[1;33m(\u001b[0m\u001b[0mdata\u001b[0m\u001b[1;33m,\u001b[0m \u001b[0mcolumns\u001b[0m\u001b[1;33m,\u001b[0m \u001b[0mdtype\u001b[0m\u001b[1;33m=\u001b[0m\u001b[0mdtype\u001b[0m\u001b[1;33m)\u001b[0m\u001b[1;33m\u001b[0m\u001b[1;33m\u001b[0m\u001b[0m\n\u001b[0m\u001b[0;32m    511\u001b[0m     \u001b[0mcolumns\u001b[0m \u001b[1;33m=\u001b[0m \u001b[0mensure_index\u001b[0m\u001b[1;33m(\u001b[0m\u001b[0mcolumns\u001b[0m\u001b[1;33m)\u001b[0m\u001b[1;33m\u001b[0m\u001b[1;33m\u001b[0m\u001b[0m\n\u001b[0;32m    512\u001b[0m \u001b[1;33m\u001b[0m\u001b[0m\n",
      "\u001b[1;32m~\\anaconda3\\lib\\site-packages\\pandas\\core\\internals\\construction.py\u001b[0m in \u001b[0;36mto_arrays\u001b[1;34m(data, columns, dtype)\u001b[0m\n\u001b[0;32m    873\u001b[0m         \u001b[0marr\u001b[0m \u001b[1;33m=\u001b[0m \u001b[0m_list_to_arrays\u001b[0m\u001b[1;33m(\u001b[0m\u001b[0mdata\u001b[0m\u001b[1;33m)\u001b[0m\u001b[1;33m\u001b[0m\u001b[1;33m\u001b[0m\u001b[0m\n\u001b[0;32m    874\u001b[0m \u001b[1;33m\u001b[0m\u001b[0m\n\u001b[1;32m--> 875\u001b[1;33m     \u001b[0mcontent\u001b[0m\u001b[1;33m,\u001b[0m \u001b[0mcolumns\u001b[0m \u001b[1;33m=\u001b[0m \u001b[0m_finalize_columns_and_data\u001b[0m\u001b[1;33m(\u001b[0m\u001b[0marr\u001b[0m\u001b[1;33m,\u001b[0m \u001b[0mcolumns\u001b[0m\u001b[1;33m,\u001b[0m \u001b[0mdtype\u001b[0m\u001b[1;33m)\u001b[0m\u001b[1;33m\u001b[0m\u001b[1;33m\u001b[0m\u001b[0m\n\u001b[0m\u001b[0;32m    876\u001b[0m     \u001b[1;32mreturn\u001b[0m \u001b[0mcontent\u001b[0m\u001b[1;33m,\u001b[0m \u001b[0mcolumns\u001b[0m\u001b[1;33m\u001b[0m\u001b[1;33m\u001b[0m\u001b[0m\n\u001b[0;32m    877\u001b[0m \u001b[1;33m\u001b[0m\u001b[0m\n",
      "\u001b[1;32m~\\anaconda3\\lib\\site-packages\\pandas\\core\\internals\\construction.py\u001b[0m in \u001b[0;36m_finalize_columns_and_data\u001b[1;34m(content, columns, dtype)\u001b[0m\n\u001b[0;32m    970\u001b[0m     \u001b[1;32mexcept\u001b[0m \u001b[0mAssertionError\u001b[0m \u001b[1;32mas\u001b[0m \u001b[0merr\u001b[0m\u001b[1;33m:\u001b[0m\u001b[1;33m\u001b[0m\u001b[1;33m\u001b[0m\u001b[0m\n\u001b[0;32m    971\u001b[0m         \u001b[1;31m# GH#26429 do not raise user-facing AssertionError\u001b[0m\u001b[1;33m\u001b[0m\u001b[1;33m\u001b[0m\u001b[1;33m\u001b[0m\u001b[0m\n\u001b[1;32m--> 972\u001b[1;33m         \u001b[1;32mraise\u001b[0m \u001b[0mValueError\u001b[0m\u001b[1;33m(\u001b[0m\u001b[0merr\u001b[0m\u001b[1;33m)\u001b[0m \u001b[1;32mfrom\u001b[0m \u001b[0merr\u001b[0m\u001b[1;33m\u001b[0m\u001b[1;33m\u001b[0m\u001b[0m\n\u001b[0m\u001b[0;32m    973\u001b[0m \u001b[1;33m\u001b[0m\u001b[0m\n\u001b[0;32m    974\u001b[0m     \u001b[1;32mif\u001b[0m \u001b[0mlen\u001b[0m\u001b[1;33m(\u001b[0m\u001b[0mcontents\u001b[0m\u001b[1;33m)\u001b[0m \u001b[1;32mand\u001b[0m \u001b[0mcontents\u001b[0m\u001b[1;33m[\u001b[0m\u001b[1;36m0\u001b[0m\u001b[1;33m]\u001b[0m\u001b[1;33m.\u001b[0m\u001b[0mdtype\u001b[0m \u001b[1;33m==\u001b[0m \u001b[0mnp\u001b[0m\u001b[1;33m.\u001b[0m\u001b[0mobject_\u001b[0m\u001b[1;33m:\u001b[0m\u001b[1;33m\u001b[0m\u001b[1;33m\u001b[0m\u001b[0m\n",
      "\u001b[1;31mValueError\u001b[0m: 2 columns passed, passed data had 1 columns"
     ]
    }
   ],
   "source": [
    "from transformers import pipeline\n",
    "sentiment_analysis = pipeline(\"sentiment-analysis\", model=\"siebert/sentiment-roberta-large-english\")\n",
    "sentiments= []\n",
    "for line in df.line_text[:20]:\n",
    "    sentiments.append(sentiment_analysis(line))\n"
   ]
  },
  {
   "cell_type": "code",
   "execution_count": 34,
   "id": "b1af1bdb",
   "metadata": {},
   "outputs": [],
   "source": [
    "sentiments_df = pd.DataFrame.from_dict(sentiments)"
   ]
  },
  {
   "cell_type": "code",
   "execution_count": 38,
   "id": "6932a586",
   "metadata": {},
   "outputs": [
    {
     "name": "stdout",
     "output_type": "stream",
     "text": [
      "Oh, I told you. I couldn't close it. So...\n"
     ]
    }
   ],
   "source": [
    "print(df.line_text[1])"
   ]
  },
  {
   "cell_type": "code",
   "execution_count": 33,
   "id": "55548e2a",
   "metadata": {},
   "outputs": [
    {
     "data": {
      "text/html": [
       "<div>\n",
       "<style scoped>\n",
       "    .dataframe tbody tr th:only-of-type {\n",
       "        vertical-align: middle;\n",
       "    }\n",
       "\n",
       "    .dataframe tbody tr th {\n",
       "        vertical-align: top;\n",
       "    }\n",
       "\n",
       "    .dataframe thead th {\n",
       "        text-align: right;\n",
       "    }\n",
       "</style>\n",
       "<table border=\"1\" class=\"dataframe\">\n",
       "  <thead>\n",
       "    <tr style=\"text-align: right;\">\n",
       "      <th></th>\n",
       "      <th>0</th>\n",
       "    </tr>\n",
       "  </thead>\n",
       "  <tbody>\n",
       "    <tr>\n",
       "      <th>0</th>\n",
       "      <td>{'label': 'POSITIVE', 'score': 0.9983558058738...</td>\n",
       "    </tr>\n",
       "    <tr>\n",
       "      <th>1</th>\n",
       "      <td>{'label': 'NEGATIVE', 'score': 0.9994515776634...</td>\n",
       "    </tr>\n",
       "    <tr>\n",
       "      <th>2</th>\n",
       "      <td>{'label': 'NEGATIVE', 'score': 0.9966723918914...</td>\n",
       "    </tr>\n",
       "    <tr>\n",
       "      <th>3</th>\n",
       "      <td>{'label': 'NEGATIVE', 'score': 0.9929152727127...</td>\n",
       "    </tr>\n",
       "    <tr>\n",
       "      <th>4</th>\n",
       "      <td>{'label': 'POSITIVE', 'score': 0.9939925074577...</td>\n",
       "    </tr>\n",
       "  </tbody>\n",
       "</table>\n",
       "</div>"
      ],
      "text/plain": [
       "                                                   0\n",
       "0  {'label': 'POSITIVE', 'score': 0.9983558058738...\n",
       "1  {'label': 'NEGATIVE', 'score': 0.9994515776634...\n",
       "2  {'label': 'NEGATIVE', 'score': 0.9966723918914...\n",
       "3  {'label': 'NEGATIVE', 'score': 0.9929152727127...\n",
       "4  {'label': 'POSITIVE', 'score': 0.9939925074577..."
      ]
     },
     "execution_count": 33,
     "metadata": {},
     "output_type": "execute_result"
    }
   ],
   "source": [
    "sentiments_df.head()"
   ]
  },
  {
   "cell_type": "code",
   "execution_count": 35,
   "id": "909a489f",
   "metadata": {},
   "outputs": [
    {
     "data": {
      "image/png": "iVBORw0KGgoAAAANSUhEUgAAAjoAAAHMCAYAAADcawJZAAAAOXRFWHRTb2Z0d2FyZQBNYXRwbG90bGliIHZlcnNpb24zLjUuMiwgaHR0cHM6Ly9tYXRwbG90bGliLm9yZy8qNh9FAAAACXBIWXMAAA9hAAAPYQGoP6dpAABeI0lEQVR4nO3dd1RUx/8+8GcBqcIKIs0gYgmKWNEotmhUilhQEwsGC4gxFjRCLCnWKCRqTNSvJTYsqInGkkSDvRE7iL0rlihoFBdFBYT5/eHP+2EFlW0i1+d1zp4D9w7vnV3as7NzZxRCCAEiIiIiGTIq7g4QERERGQqDDhEREckWgw4RERHJFoMOERERyRaDDhEREckWgw4RERHJFoMOERERyZZJcXegOOXl5eHmzZuwtraGQqEo7u4QERFREQgh8ODBA7i4uMDI6NVjNu900Ll58yZcXV2LuxtERESkhevXr+O99957ZZt3OuhYW1sDePZE2djYFHNviIiIqCgyMjLg6uoq/R9/lXc66Dx/u8rGxoZBh4iIqIQpyrQTTkYmIiIi2WLQISIiItli0CEiIiLZYtAhIiIi2WLQISIiItli0CEiIiLZYtAhIiIi2WLQISIiItli0CEiIiLZYtAhIiIi2WLQISIiItli0CEiIiLZYtAhIiIi2WLQISIiItli0CEiIiLZMinuDshZxVEbi7sLGkuJCSzuLhAREekNR3SIiIhIthh0iIiISLYYdIiIiEi2GHSIiIhIthh0iIiISLYYdIiIiEi2GHSIiIhIthh0iIiISLYYdIiIiEi2GHSIiIhIthh0iIiISLYYdIiIiEi2GHSIiIhIthh0iIiISLYYdIiIiEi2GHSIiIhIthh0iIiISLYYdIiIiEi2GHSIiIhIthh0iIiISLYYdIiIiEi2GHSIiIhItjQOOnv27EH79u3h4uIChUKB9evXq51XKBSF3qZMmSK1adGiRYHz3bt3V6uTnp6OkJAQKJVKKJVKhISE4P79+2ptrl27hvbt28PKygr29vaIiIhAdna2pg+JiIiIZErjoJOZmYnatWtj1qxZhZ6/deuW2m3RokVQKBTo0qWLWrvw8HC1dvPmzVM7HxwcjOTkZMTHxyM+Ph7JyckICQmRzufm5iIwMBCZmZlISEjAqlWr8PvvvyMyMlLTh0REREQyZaLpFwQEBCAgIOCl552cnNQ+37BhA1q2bIlKlSqpHbe0tCzQ9rkzZ84gPj4eBw4cQMOGDQEA8+fPh4+PD86dOwcPDw9s2bIFp0+fxvXr1+Hi4gIAmDZtGvr06YNJkybBxsZG04dGREREMmPQOTppaWnYuHEjwsLCCpyLi4uDvb09atSogaioKDx48EA6t3//fiiVSinkAECjRo2gVCqxb98+qY2Xl5cUcgDAz88PWVlZSExMLLQ/WVlZyMjIULsRERGRfGk8oqOJJUuWwNraGp07d1Y73rNnT7i7u8PJyQknT57E6NGjcezYMWzduhUAkJqaCgcHhwL1HBwckJqaKrVxdHRUO29rawtTU1OpzYuio6Mxfvx4fTw0IiIiKgEMGnQWLVqEnj17wtzcXO14eHi49LGXlxeqVq2K+vXrIykpCfXq1QPwbFLzi4QQaseL0ia/0aNHY/jw4dLnGRkZcHV11exBERERUYlhsLeu9u7di3PnzqFfv36vbVuvXj2UKlUKFy5cAPBsnk9aWlqBdnfu3JFGcZycnAqM3KSnpyMnJ6fASM9zZmZmsLGxUbsRERGRfBks6CxcuBDe3t6oXbv2a9ueOnUKOTk5cHZ2BgD4+PhApVLh0KFDUpuDBw9CpVKhcePGUpuTJ0/i1q1bUpstW7bAzMwM3t7een40REREVBJp/NbVw4cPcfHiRenzK1euIDk5GXZ2dqhQoQKAZ28JrV69GtOmTSvw9ZcuXUJcXBzatm0Le3t7nD59GpGRkahbty6aNGkCAKhevTr8/f0RHh4uXXbev39/tGvXDh4eHgAAX19feHp6IiQkBFOmTMG9e/cQFRWF8PBwjtQQERERAC1GdI4cOYK6deuibt26AIDhw4ejbt26GDNmjNRm1apVEEKgR48eBb7e1NQU27dvh5+fHzw8PBAREQFfX19s27YNxsbGUru4uDjUrFkTvr6+8PX1Ra1atbBs2TLpvLGxMTZu3Ahzc3M0adIEXbt2RVBQEKZOnarpQyIiIiKZUgghRHF3orhkZGRAqVRCpVIZZBSo4qiNeq9paCkxgcXdBSIiolfS5P8397oiIiIi2WLQISIiItli0CEiIiLZYtAhIiIi2WLQISIiItli0CEiIiLZYtAhIiIi2WLQISIiItli0CEiIiLZYtAhIiIi2WLQISIiItli0CEiIiLZYtAhIiIi2WLQISIiItli0CEiIiLZYtAhIiIi2WLQISIiItli0CEiIiLZYtAhIiIi2WLQISIiItli0CEiIiLZYtAhIiIi2WLQISIiItli0CEiIiLZYtAhIiIi2WLQISIiItli0CEiIiLZYtAhIiIi2WLQISIiItli0CEiIiLZYtAhIiIi2WLQISIiItli0CEiIiLZYtAhIiIi2WLQISIiItli0CEiIiLZ0jjo7NmzB+3bt4eLiwsUCgXWr1+vdr5Pnz5QKBRqt0aNGqm1ycrKwpAhQ2Bvbw8rKyt06NABN27cUGuTnp6OkJAQKJVKKJVKhISE4P79+2ptrl27hvbt28PKygr29vaIiIhAdna2pg+JiIiIZErjoJOZmYnatWtj1qxZL23j7++PW7duSbdNmzapnR82bBjWrVuHVatWISEhAQ8fPkS7du2Qm5srtQkODkZycjLi4+MRHx+P5ORkhISESOdzc3MRGBiIzMxMJCQkYNWqVfj9998RGRmp6UMiIiIimTLR9AsCAgIQEBDwyjZmZmZwcnIq9JxKpcLChQuxbNkytG7dGgCwfPlyuLq6Ytu2bfDz88OZM2cQHx+PAwcOoGHDhgCA+fPnw8fHB+fOnYOHhwe2bNmC06dP4/r163BxcQEATJs2DX369MGkSZNgY2NT4L6zsrKQlZUlfZ6RkaHpwyciIqISxCBzdHbt2gUHBwe8//77CA8Px+3bt6VziYmJyMnJga+vr3TMxcUFXl5e2LdvHwBg//79UCqVUsgBgEaNGkGpVKq18fLykkIOAPj5+SErKwuJiYmF9is6Olp6K0ypVMLV1VWvj5uIiIjeLnoPOgEBAYiLi8OOHTswbdo0HD58GB999JE0kpKamgpTU1PY2tqqfZ2joyNSU1OlNg4ODgVqOzg4qLVxdHRUO29rawtTU1OpzYtGjx4NlUol3a5fv67z4yUiIqK3l8ZvXb1Ot27dpI+9vLxQv359uLm5YePGjejcufNLv04IAYVCIX2e/2Nd2uRnZmYGMzOzIj0OIiIiKvkMfnm5s7Mz3NzccOHCBQCAk5MTsrOzkZ6ertbu9u3b0giNk5MT0tLSCtS6c+eOWpsXR27S09ORk5NTYKSHiIiI3k0GDzp3797F9evX4ezsDADw9vZGqVKlsHXrVqnNrVu3cPLkSTRu3BgA4OPjA5VKhUOHDkltDh48CJVKpdbm5MmTuHXrltRmy5YtMDMzg7e3t6EfFhEREZUAGr919fDhQ1y8eFH6/MqVK0hOToadnR3s7Owwbtw4dOnSBc7OzkhJScFXX30Fe3t7dOrUCQCgVCoRFhaGyMhIlC1bFnZ2doiKikLNmjWlq7CqV68Of39/hIeHY968eQCA/v37o127dvDw8AAA+Pr6wtPTEyEhIZgyZQru3buHqKgohIeHF3rFFREREb17NA46R44cQcuWLaXPhw8fDgDo3bs35syZgxMnTmDp0qW4f/8+nJ2d0bJlS/z666+wtraWvmb69OkwMTFB165d8fjxY7Rq1QqxsbEwNjaW2sTFxSEiIkK6OqtDhw5qa/cYGxtj48aNGDhwIJo0aQILCwsEBwdj6tSpmj8LREREJEsKIYQo7k4Ul4yMDCiVSqhUKoOMAlUctVHvNQ0tJSawuLtARET0Spr8/+ZeV0RERCRbDDpEREQkWww6REREJFsMOkRERCRbDDpEREQkWww6REREJFsMOkRERCRbDDpEREQkWww6REREJFsMOkRERCRbDDpEREQkWww6REREJFsMOkRERCRbDDpEREQkWww6REREJFsMOkRERCRbDDpEREQkWww6REREJFsMOkRERCRbDDpEREQkWww6REREJFsMOkRERCRbDDpEREQkWww6REREJFsMOkRERCRbDDpEREQkWww6REREJFsMOkRERCRbDDpEREQkWww6REREJFsMOkRERCRbJsXdAXq7VBy1sbi7oLGUmMDi7gIREb2lOKJDREREssWgQ0RERLLFoENERESypXHQ2bNnD9q3bw8XFxcoFAqsX79eOpeTk4ORI0eiZs2asLKygouLC3r16oWbN2+q1WjRogUUCoXarXv37mpt0tPTERISAqVSCaVSiZCQENy/f1+tzbVr19C+fXtYWVnB3t4eERERyM7O1vQhERERkUxpHHQyMzNRu3ZtzJo1q8C5R48eISkpCd9++y2SkpKwdu1anD9/Hh06dCjQNjw8HLdu3ZJu8+bNUzsfHByM5ORkxMfHIz4+HsnJyQgJCZHO5+bmIjAwEJmZmUhISMCqVavw+++/IzIyUtOHRERERDKl8VVXAQEBCAgIKPScUqnE1q1b1Y7NnDkTH3zwAa5du4YKFSpIxy0tLeHk5FRonTNnziA+Ph4HDhxAw4YNAQDz58+Hj48Pzp07Bw8PD2zZsgWnT5/G9evX4eLiAgCYNm0a+vTpg0mTJsHGxkbTh0ZEREQyY/A5OiqVCgqFAmXKlFE7HhcXB3t7e9SoUQNRUVF48OCBdG7//v1QKpVSyAGARo0aQalUYt++fVIbLy8vKeQAgJ+fH7KyspCYmFhoX7KyspCRkaF2IyIiIvky6Do6T548wahRoxAcHKw2wtKzZ0+4u7vDyckJJ0+exOjRo3Hs2DFpNCg1NRUODg4F6jk4OCA1NVVq4+joqHbe1tYWpqamUpsXRUdHY/z48fp6eERERPSWM1jQycnJQffu3ZGXl4fZs2ernQsPD5c+9vLyQtWqVVG/fn0kJSWhXr16AACFQlGgphBC7XhR2uQ3evRoDB8+XPo8IyMDrq6umj0wIiIiKjEM8tZVTk4OunbtiitXrmDr1q2vnS9Tr149lCpVChcuXAAAODk5IS0trUC7O3fuSKM4Tk5OBUZu0tPTkZOTU2Ck5zkzMzPY2Nio3YiIiEi+9B50noecCxcuYNu2bShbtuxrv+bUqVPIycmBs7MzAMDHxwcqlQqHDh2S2hw8eBAqlQqNGzeW2pw8eRK3bt2S2mzZsgVmZmbw9vbW86MiIiKikkjjt64ePnyIixcvSp9fuXIFycnJsLOzg4uLCz7++GMkJSXhr7/+Qm5urjTqYmdnB1NTU1y6dAlxcXFo27Yt7O3tcfr0aURGRqJu3bpo0qQJAKB69erw9/dHeHi4dNl5//790a5dO3h4eAAAfH194enpiZCQEEyZMgX37t1DVFQUwsPDOVJDREREALQY0Tly5Ajq1q2LunXrAgCGDx+OunXrYsyYMbhx4wb++OMP3LhxA3Xq1IGzs7N0e361lKmpKbZv3w4/Pz94eHggIiICvr6+2LZtG4yNjaX7iYuLQ82aNeHr6wtfX1/UqlULy5Ytk84bGxtj48aNMDc3R5MmTdC1a1cEBQVh6tSpuj4nREREJBMKIYQo7k4Ul4yMDCiVSqhUKoOMApXEncBLIu5eTkT0btHk/zf3uiIiIiLZYtAhIiIi2WLQISIiItli0CEiIiLZYtAhIiIi2WLQISIiItli0CEiIiLZYtAhIiIi2WLQISIiItli0CEiIiLZYtAhIiIi2WLQISIiItli0CEiIiLZYtAhIiIi2WLQISIiItli0CEiIiLZYtAhIiIi2WLQISIiItli0CEiIiLZYtAhIiIi2WLQISIiItli0CEiIiLZYtAhIiIi2WLQISIiItli0CEiIiLZYtAhIiIi2WLQISIiItli0CEiIiLZYtAhIiIi2WLQISIiItli0CEiIiLZYtAhIiIi2WLQISIiItli0CEiIiLZYtAhIiIi2dI46OzZswft27eHi4sLFAoF1q9fr3ZeCIFx48bBxcUFFhYWaNGiBU6dOqXWJisrC0OGDIG9vT2srKzQoUMH3LhxQ61Neno6QkJCoFQqoVQqERISgvv376u1uXbtGtq3bw8rKyvY29sjIiIC2dnZmj4kIiIikimNg05mZiZq166NWbNmFXr+hx9+wI8//ohZs2bh8OHDcHJyQps2bfDgwQOpzbBhw7Bu3TqsWrUKCQkJePjwIdq1a4fc3FypTXBwMJKTkxEfH4/4+HgkJycjJCREOp+bm4vAwEBkZmYiISEBq1atwu+//47IyEhNHxIRERHJlEIIIbT+YoUC69atQ1BQEIBnozkuLi4YNmwYRo4cCeDZ6I2joyO+//57fPbZZ1CpVChXrhyWLVuGbt26AQBu3rwJV1dXbNq0CX5+fjhz5gw8PT1x4MABNGzYEABw4MAB+Pj44OzZs/Dw8MDff/+Ndu3a4fr163BxcQEArFq1Cn369MHt27dhY2Pz2v5nZGRAqVRCpVIVqb2mKo7aqPeaVFBKTGBxd4GIiN4gTf5/63WOzpUrV5CamgpfX1/pmJmZGT788EPs27cPAJCYmIicnBy1Ni4uLvDy8pLa7N+/H0qlUgo5ANCoUSMolUq1Nl5eXlLIAQA/Pz9kZWUhMTGx0P5lZWUhIyND7UZERETypdegk5qaCgBwdHRUO+7o6CidS01NhampKWxtbV/ZxsHBoUB9BwcHtTYv3o+trS1MTU2lNi+Kjo6W5vwolUq4urpq8SiJiIiopDDIVVcKhULtcyFEgWMverFNYe21aZPf6NGjoVKppNv169df2SciIiIq2fQadJycnACgwIjK7du3pdEXJycnZGdnIz09/ZVt0tLSCtS/c+eOWpsX7yc9PR05OTkFRnqeMzMzg42NjdqNiIiI5EuvQcfd3R1OTk7YunWrdCw7Oxu7d+9G48aNAQDe3t4oVaqUWptbt27h5MmTUhsfHx+oVCocOnRIanPw4EGoVCq1NidPnsStW7ekNlu2bIGZmRm8vb31+bCIiIiohDLR9AsePnyIixcvSp9fuXIFycnJsLOzQ4UKFTBs2DBMnjwZVatWRdWqVTF58mRYWloiODgYAKBUKhEWFobIyEiULVsWdnZ2iIqKQs2aNdG6dWsAQPXq1eHv74/w8HDMmzcPANC/f3+0a9cOHh4eAABfX194enoiJCQEU6ZMwb179xAVFYXw8HCO1BAREREALYLOkSNH0LJlS+nz4cOHAwB69+6N2NhYjBgxAo8fP8bAgQORnp6Ohg0bYsuWLbC2tpa+Zvr06TAxMUHXrl3x+PFjtGrVCrGxsTA2NpbaxMXFISIiQro6q0OHDmpr9xgbG2Pjxo0YOHAgmjRpAgsLCwQHB2Pq1KmaPwtEREQkSzqto1PScR0deeA6OkRE75ZiW0eHiIiI6G3CoENERESyxaBDREREssWgQ0RERLLFoENERESyxaBDREREssWgQ0RERLLFoENERESyxaBDREREssWgQ0RERLLFoENERESyxaBDREREssWgQ0RERLLFoENERESyxaBDREREssWgQ0RERLLFoENERESyxaBDREREssWgQ0RERLLFoENERESyxaBDREREssWgQ0RERLLFoENERESyxaBDREREssWgQ0RERLLFoENERESyxaBDREREssWgQ0RERLLFoENERESyxaBDREREssWgQ0RERLLFoENERESyxaBDREREssWgQ0RERLLFoENERESyxaBDREREsqX3oFOxYkUoFIoCt0GDBgEA+vTpU+Bco0aN1GpkZWVhyJAhsLe3h5WVFTp06IAbN26otUlPT0dISAiUSiWUSiVCQkJw//59fT8cIiIiKsH0HnQOHz6MW7duSbetW7cCAD755BOpjb+/v1qbTZs2qdUYNmwY1q1bh1WrViEhIQEPHz5Eu3btkJubK7UJDg5GcnIy4uPjER8fj+TkZISEhOj74RAREVEJZqLvguXKlVP7PCYmBpUrV8aHH34oHTMzM4OTk1OhX69SqbBw4UIsW7YMrVu3BgAsX74crq6u2LZtG/z8/HDmzBnEx8fjwIEDaNiwIQBg/vz58PHxwblz5+Dh4aHvh0VEREQlkEHn6GRnZ2P58uUIDQ2FQqGQju/atQsODg54//33ER4ejtu3b0vnEhMTkZOTA19fX+mYi4sLvLy8sG/fPgDA/v37oVQqpZADAI0aNYJSqZTaFCYrKwsZGRlqNyIiIpIvgwad9evX4/79++jTp490LCAgAHFxcdixYwemTZuGw4cP46OPPkJWVhYAIDU1FaamprC1tVWr5ejoiNTUVKmNg4NDgftzcHCQ2hQmOjpamtOjVCrh6uqqh0dJREREbyu9v3WV38KFCxEQEAAXFxfpWLdu3aSPvby8UL9+fbi5uWHjxo3o3LnzS2sJIdRGhfJ//LI2Lxo9ejSGDx8ufZ6RkcGwQ0REJGMGCzpXr17Ftm3bsHbt2le2c3Z2hpubGy5cuAAAcHJyQnZ2NtLT09VGdW7fvo3GjRtLbdLS0grUunPnDhwdHV96X2ZmZjAzM9Pm4RAREVEJZLC3rhYvXgwHBwcEBga+st3du3dx/fp1ODs7AwC8vb1RqlQp6WotALh16xZOnjwpBR0fHx+oVCocOnRIanPw4EGoVCqpDREREZFBRnTy8vKwePFi9O7dGyYm/7uLhw8fYty4cejSpQucnZ2RkpKCr776Cvb29ujUqRMAQKlUIiwsDJGRkShbtizs7OwQFRWFmjVrSldhVa9eHf7+/ggPD8e8efMAAP3790e7du14xRURERFJDBJ0tm3bhmvXriE0NFTtuLGxMU6cOIGlS5fi/v37cHZ2RsuWLfHrr7/C2tpaajd9+nSYmJiga9euePz4MVq1aoXY2FgYGxtLbeLi4hARESFdndWhQwfMmjXLEA+HiIiISiiFEEIUdyeKS0ZGBpRKJVQqFWxsbPRev+KojXqvSQWlxLz67VEiIpIXTf5/c68rIiIiki0GHSIiIpItBh0iIiKSLQYdIiIiki0GHSIiIpItBh0iIiKSLQYdIiIiki0GHSIiIpItBh0iIiKSLQYdIiIiki0GHSIiIpItBh0iIiKSLQYdIiIiki0GHSIiIpItBh0iIiKSLQYdIiIiki0GHSIiIpItBh0iIiKSLQYdIiIiki0GHSIiIpItBh0iIiKSLQYdIiIiki0GHSIiIpItBh0iIiKSLQYdIiIiki0GHSIiIpItBh0iIiKSLQYdIiIiki0GHSIiIpItBh0iIiKSLQYdIiIiki0GHSIiIpItBh0iIiKSLQYdIiIiki0GHSIiIpItvQedcePGQaFQqN2cnJyk80IIjBs3Di4uLrCwsECLFi1w6tQptRpZWVkYMmQI7O3tYWVlhQ4dOuDGjRtqbdLT0xESEgKlUgmlUomQkBDcv39f3w+HiIiISjCDjOjUqFEDt27dkm4nTpyQzv3www/48ccfMWvWLBw+fBhOTk5o06YNHjx4ILUZNmwY1q1bh1WrViEhIQEPHz5Eu3btkJubK7UJDg5GcnIy4uPjER8fj+TkZISEhBji4RAREVEJZWKQoiYmaqM4zwkh8NNPP+Hrr79G586dAQBLliyBo6MjVqxYgc8++wwqlQoLFy7EsmXL0Lp1awDA8uXL4erqim3btsHPzw9nzpxBfHw8Dhw4gIYNGwIA5s+fDx8fH5w7dw4eHh6GeFhERERUwhhkROfChQtwcXGBu7s7unfvjsuXLwMArly5gtTUVPj6+kptzczM8OGHH2Lfvn0AgMTEROTk5Ki1cXFxgZeXl9Rm//79UCqVUsgBgEaNGkGpVEptCpOVlYWMjAy1GxEREcmX3oNOw4YNsXTpUmzevBnz589HamoqGjdujLt37yI1NRUA4OjoqPY1jo6O0rnU1FSYmprC1tb2lW0cHBwK3LeDg4PUpjDR0dHSnB6lUglXV1edHisRERG93fQedAICAtClSxfUrFkTrVu3xsaNGwE8e4vqOYVCofY1QogCx170YpvC2r+uzujRo6FSqaTb9evXi/SYiIiIqGQy+OXlVlZWqFmzJi5cuCDN23lx1OX27dvSKI+TkxOys7ORnp7+yjZpaWkF7uvOnTsFRovyMzMzg42NjdqNiIiI5MvgQScrKwtnzpyBs7Mz3N3d4eTkhK1bt0rns7OzsXv3bjRu3BgA4O3tjVKlSqm1uXXrFk6ePCm18fHxgUqlwqFDh6Q2Bw8ehEqlktoQERER6f2qq6ioKLRv3x4VKlTA7du38d133yEjIwO9e/eGQqHAsGHDMHnyZFStWhVVq1bF5MmTYWlpieDgYACAUqlEWFgYIiMjUbZsWdjZ2SEqKkp6KwwAqlevDn9/f4SHh2PevHkAgP79+6Ndu3a84oqIiIgkeg86N27cQI8ePfDff/+hXLlyaNSoEQ4cOAA3NzcAwIgRI/D48WMMHDgQ6enpaNiwIbZs2QJra2upxvTp02FiYoKuXbvi8ePHaNWqFWJjY2FsbCy1iYuLQ0REhHR1VocOHTBr1ix9PxwiIiIqwRRCCFHcnSguGRkZUCqVUKlUBpmvU3HURr3XpIJSYgKLuwtERPQGafL/m3tdERERkWwZZGVkIiKit1lJHHHn6LV2OKJDREREssWgQ0RERLLFoENERESyxaBDREREssWgQ0RERLLFoENERESyxaBDREREssWgQ0RERLLFoENERESyxaBDREREssWgQ0RERLLFoENERESyxaBDREREssWgQ0RERLLFoENERESyxaBDREREssWgQ0RERLLFoENERESyxaBDREREssWgQ0RERLLFoENERESyZVLcHSCikqHiqI3F3QWNpcQEFncXiKiYcUSHiIiIZItBh4iIiGSLQYeIiIhki0GHiIiIZItBh4iIiGSLQYeIiIhki0GHiIiIZItBh4iIiGSLQYeIiIhki0GHiIiIZItBh4iIiGSLQYeIiIhkS+9BJzo6Gg0aNIC1tTUcHBwQFBSEc+fOqbXp06cPFAqF2q1Ro0ZqbbKysjBkyBDY29vDysoKHTp0wI0bN9TapKenIyQkBEqlEkqlEiEhIbh//76+HxIRERGVUHoPOrt378agQYNw4MABbN26FU+fPoWvry8yMzPV2vn7++PWrVvSbdOmTWrnhw0bhnXr1mHVqlVISEjAw4cP0a5dO+Tm5kptgoODkZycjPj4eMTHxyM5ORkhISH6fkhERERUQpnou2B8fLza54sXL4aDgwMSExPRvHlz6biZmRmcnJwKraFSqbBw4UIsW7YMrVu3BgAsX74crq6u2LZtG/z8/HDmzBnEx8fjwIEDaNiwIQBg/vz58PHxwblz5+Dh4VGgblZWFrKysqTPMzIydH68RERE9PYy+BwdlUoFALCzs1M7vmvXLjg4OOD9999HeHg4bt++LZ1LTExETk4OfH19pWMuLi7w8vLCvn37AAD79++HUqmUQg4ANGrUCEqlUmrzoujoaOltLqVSCVdXV709TiIiInr7GDToCCEwfPhwNG3aFF5eXtLxgIAAxMXFYceOHZg2bRoOHz6Mjz76SBptSU1NhampKWxtbdXqOTo6IjU1VWrj4OBQ4D4dHBykNi8aPXo0VCqVdLt+/bq+HioRERG9hfT+1lV+gwcPxvHjx5GQkKB2vFu3btLHXl5eqF+/Ptzc3LBx40Z07tz5pfWEEFAoFNLn+T9+WZv8zMzMYGZmpunDICIiKnYVR20s7i5oJSUmsFjv32AjOkOGDMEff/yBnTt34r333ntlW2dnZ7i5ueHChQsAACcnJ2RnZyM9PV2t3e3bt+Ho6Ci1SUtLK1Drzp07UhsiIiJ6t+l9REcIgSFDhmDdunXYtWsX3N3dX/s1d+/exfXr1+Hs7AwA8Pb2RqlSpbB161Z07doVAHDr1i2cPHkSP/zwAwDAx8cHKpUKhw4dwgcffAAAOHjwIFQqFRo3bqzvh0VEJVBJfAVc3K9+ieRG70Fn0KBBWLFiBTZs2ABra2tpvoxSqYSFhQUePnyIcePGoUuXLnB2dkZKSgq++uor2Nvbo1OnTlLbsLAwREZGomzZsrCzs0NUVBRq1qwpXYVVvXp1+Pv7Izw8HPPmzQMA9O/fH+3atSv0iiuit0lJ/AdMRFQS6T3ozJkzBwDQokULteOLFy9Gnz59YGxsjBMnTmDp0qW4f/8+nJ2d0bJlS/z666+wtraW2k+fPh0mJibo2rUrHj9+jFatWiE2NhbGxsZSm7i4OEREREhXZ3Xo0AGzZs3S90MiIiKiEsogb129ioWFBTZv3vzaOubm5pg5cyZmzpz50jZ2dnZYvny5xn0kIiKidwP3uiIiIiLZMujl5URvAue7EBHRy3BEh4iIiGSLQYeIiIhki0GHiIiIZItBh4iIiGSLQYeIiIhki1ddERGRTnjlI73NOKJDREREssURHSKitwhHR4j0iyM6REREJFsMOkRERCRbDDpEREQkWww6REREJFsMOkRERCRbDDpEREQkWww6REREJFsMOkRERCRbDDpEREQkWww6REREJFsMOkRERCRbDDpEREQkWww6REREJFsMOkRERCRbDDpEREQkWww6REREJFsMOkRERCRbDDpEREQkWww6REREJFsMOkRERCRbDDpEREQkWww6REREJFsMOkRERCRbDDpEREQkWww6REREJFslPujMnj0b7u7uMDc3h7e3N/bu3VvcXSIiIqK3RIkOOr/++iuGDRuGr7/+GkePHkWzZs0QEBCAa9euFXfXiIiI6C1QooPOjz/+iLCwMPTr1w/Vq1fHTz/9BFdXV8yZM6e4u0ZERERvAZPi7oC2srOzkZiYiFGjRqkd9/X1xb59+wr9mqysLGRlZUmfq1QqAEBGRoZB+piX9cggdYmIiEoKQ/yPfV5TCPHatiU26Pz333/Izc2Fo6Oj2nFHR0ekpqYW+jXR0dEYP358geOurq4G6SMREdG7TvmT4Wo/ePAASqXylW1KbNB5TqFQqH0uhChw7LnRo0dj+PDh0ud5eXm4d+8eypYt+9Kv0VZGRgZcXV1x/fp12NjYvPV1DVmbfX4ztUtinw1Zm31+M7XZ5zdTuyT22ZC1hRB48OABXFxcXtu2xAYde3t7GBsbFxi9uX37doFRnufMzMxgZmamdqxMmTKG6iIAwMbGRu8/OIasa8ja7PObqV0S+2zI2uzzm6nNPr+Z2iWxz4aq/bqRnOdK7GRkU1NTeHt7Y+vWrWrHt27disaNGxdTr4iIiOhtUmJHdABg+PDhCAkJQf369eHj44NffvkF165dw4ABA4q7a0RERPQWKNFBp1u3brh79y4mTJiAW7duwcvLC5s2bYKbm1txdw1mZmYYO3ZsgbfK3ta6hqzNPr+Z2iWxz4aszT6/mdrs85upXRL7bOjaRaUQRbk2i4iIiKgEKrFzdIiIiIheh0GHiIiIZItBh4iIiGSLQYeIiIhki0GHiOg1du3aVdxdICIt8aqrEuL27du4ffs28vLy1I7XqlWrmHpUPPLy8nDx4sVCn4vmzZsXU6+Kx9OnT2Fubo7k5GR4eXkVd3dkzdzcHOXLl0ffvn3Ru3dv7o9HsvLkyROYm5sXdzcMpkSvo/MuSExMRO/evXHmzBlpl1aFQiHt6ZWbm1vMPXy5jz76CGvXri2wzUZGRgaCgoKwY8cOjeodOHAAwcHBuHr1aoEda9/256JPnz4IDQ3VaxgzMTGBm5ubwR73mjVr8Ntvv+HatWvIzs5WO5eUlGSQ+3xb3bx5E8uXL0dsbCzGjRuHVq1aISwsDEFBQTA1NdW5/q5du9CiRQvdO1pC1a1bt8j7DWrzs9eiRQuEhobik08+gYWFhcZf/zol8fuXl5eHSZMmYe7cuUhLS8P58+dRqVIlfPvtt6hYsSLCwsJ0vo+LFy/i0qVLaN68OSwsLF65F6UhcUTnLVerVi1UqVIFI0eOhKOjY4EfEl0XR3zy5AlmzpyJnTt3FjpKoss/NCMjI6SmpsLBwUHt+O3bt1G+fHnk5ORoVK9OnTp4//33MX78eDg7Oxd4Loq678mrXL9+HQqFAu+99x4A4NChQ1ixYgU8PT3Rv39/ret26dIFGzduhKurqzQqUL58eZ37u3jxYqxevRrLly+HnZ2dzvWemzFjBr7++mv07t0b8+fPR9++fXHp0iUcPnwYgwYNwqRJk3S+j+3bt2P79u2F/twtWrRI67rnz5/Hrl27Cq07ZswYres+l5ycjEWLFmHlypXIy8tDz549ERYWhtq1a2td05AjRvfv38ehQ4cKfT569eqlUa0ZM2YUuW1ERESR244fP176+MmTJ5g9ezY8PT3h4+MD4NmLnFOnTmHgwIGIjo4ueof/v8jISMTFxeHx48fo2rUrwsLC0KhRI43rvIwhv39paWmIioqSflde/Jet7QudCRMmYMmSJZgwYQLCw8Nx8uRJVKpUCb/99humT5+O/fv3a93nu3fvolu3btixYwcUCgUuXLiASpUqISwsDGXKlMG0adO0rq0NBh0d2draFjmh3rt3T+P61tbWOHr0KKpUqaLx1xZFcHAwtm7dio8//rjQIDV27FiNax4/fhzAs2CyY8cOtX/Aubm5iI+Px7x585CSkqJRXSsrKxw7dsxgzwUANGvWDP3790dISAhSU1Ph4eGBGjVq4Pz584iIiNDpH+Xdu3elUYGTJ0+idevWCAsLQ8eOHVGqVCmtatatWxcXL15ETk4O3NzcYGVlpXZe26BarVo1jB07Fj169IC1tTWOHTuGSpUqYcyYMbh37x5mzZqlVd3nxo8fjwkTJqB+/fqFhtZ169ZpVXf+/Pn4/PPPYW9vDycnJ7W6CoVCbyNRN2/exC+//IKYmBiYmJjgyZMn8PHxwdy5c1GjRg2N6927d0/62Th+/LjeRoz+/PNP9OzZE5mZmbC2ti7wfGj6N8nd3b1I7RQKBS5fvqxR7ef69esHZ2dnTJw4Ue342LFjcf36da1DcG5uLv766y8sXrwYmzZtQpUqVRAaGoqQkJCXbgRdVIb6/gFAQEAArl27hsGDBxf6u9KxY0et6lapUgXz5s1Dq1at1H7Hz549Cx8fH6Snp2vd5169euH27dtYsGABqlevLtXesmULvvjiC5w6dUrr2loRpJPY2Ngi37TRsWNHsWbNGj33+n9sbGxEQkKCXmsqFAphZGQkjIyMhEKhKHCztLQUCxcu1Lhuy5Ytxd9//63Xvr6oTJky4uzZs0IIIX7++WfRuHFjIYQQmzdvFu7u7nq7n6SkJDF48GBhbm4u7O3txbBhw8T58+c1rjNu3LhX3rRlYWEhUlJShBBClCtXTiQnJwshhDh//ryws7PTuu5zTk5OYunSpTrXeVGFChVETEyM3usKIUR2drZYvXq1CAgIECYmJqJRo0Zi/vz54uHDh+LatWuiR48eonr16jrfz9GjR8WQIUOEvb29sLOzE0OGDJGef01VrVpVDB06VGRmZurcrzfFxsam0N+F8+fPCxsbG73cx+3bt8XEiROFubm5KFWqlOjYsaPYvn27Xmrr8/snhBClS5cWR48e1Uvf8jM3N5d+x0uXLi0uXbokhBDi1KlTwsrKSqfajo6O0mPOX/vy5cs619YGg85b7s6dO6Jt27Zi3LhxYs2aNWLDhg1qN11Vr15dHDt2TA89/Z+UlBRx5coVoVAoxOHDh0VKSop0u3nzpnj69KlWddeuXSs8PT3F4sWLxZEjR8SxY8fUbvpgZWUlrly5IoQQon379tI/zatXrwpzc3O93MfNmzdFTEyMeP/994WVlZXo1auXaNOmjTAxMRE//vijXu5DV+7u7iIxMVEIIUT9+vXF3LlzhRDPAp+tra3O9e3s7MTFixd1rvMia2tr6Y+qPg0ePFiULVtWlC1bVgwdOlScOHGiQJurV68KhUKhl/v7999/xdixY4WZmZmwsrISxsbGomnTpuLkyZMa1bG0tDTI8yGEEDt37jRIXUdHR7Fo0aICxxctWiQcHBx0rn/w4EExYMAAoVQqRYUKFcSYMWNEeHi4sLS0FJGRkTrXF0J/3z8hnv2NTkpK0ku/8vP29hbLli0TQqiHkXHjxommTZvqVLt06dJSWM1f+9ChQ3p5oaQpBh09u3jxovj6669F9+7dRVpamhBCiL///lurH3AhhNiwYYOwsbEpdGTEyMhI5/5u2rRJ+Pv7S8n+bfay50Bfz4UQQnzwwQdi5MiRYs+ePcLc3Fx6VbJ//35Rvnx5retmZ2eLNWvWiMDAQFGqVCnh7e0t5syZIzIyMqQ2K1euFGXKlNH5MehDWFiYNCI0Z84cYWFhIVq3bi3KlCkjQkNDda4/YsQIMWHCBJ3rvCg0NFTMmTNH73U/+ugjsWLFCpGVlfXSNjk5OWLXrl1a34chRow6deokfv31V6379CpmZmaiUqVKYuLEieLatWt6qxsdHS3MzMzEoEGDxLJly8SyZcvEoEGDhIWFhYiOjtaqZlpampg6daqoUaOGMDU1FV26dBF///23yMvLk9ps3bpVp9EGQ434bd68Wfj6+kovwPTljz/+EEqlUsTExAhLS0sxZcoU0a9fP2Fqaiq2bNmiU+22bduKb775RgjxLOhcvnxZ5Obmik8++UR06dJFH93XCOfo6NHu3bsREBCAJk2aYM+ePThz5gwqVaqEH374AYcOHcKaNWs0rlmxYkW0a9cO3377rc7vIxfmzp076Nq1K/bs2QNLS8sCc0W0mVeUnz4nhl69evWV5/Wxa/2uXbvQqVMnZGRkoHfv3tJ8gK+++gpnz57F2rVrtaprb2+PvLw89OjRA+Hh4ahTp06BNunp6ahXrx6uXLlS5Lq5ubmYPn36S6+O0vb7l5eXh7y8PJiYPLsw87fffkNCQgKqVKmCAQMG6DzvYOjQoVi6dClq1aqFWrVqFfi5+/HHH7WqGx0djR9//BGBgYGoWbNmgbqaTJB9k4YMGYKVK1cCAD799FP069evwJIB165dQ8WKFQv8Hr3ojz/+kD6+c+cOJkyYgL59+xb6fHTo0EHrPhtyXspvv/2Gn3/+GWfOnAEAVK9eHUOHDkXXrl21qmdqaorKlSsjNDQUffr0Qbly5Qq0ycjIQMeOHbFz506N6+vz+/ciW1tbPHr0CE+fPtX73+jNmzdj8uTJSExMRF5eHurVq4cxY8bA19dX65oAcPr0abRo0QLe3t7YsWMHOnTogFOnTuHevXv4559/ULlyZZ3qa4pBR498fHzwySefYPjw4WqTuw4fPoygoCD8+++/Gte0trZGcnKywX4wWrdujWvXriEsLKzQyci9e/fWuvabmhiqb7m5ucjIyICtra10LCUlBZaWlgWuICuqZcuW4ZNPPtH7WhVjxozBggULMHz4cHz77bf4+uuvkZKSgvXr12PMmDFv7T/2li1bvvScQqHQeOmB5141WVaXCbIAcO7cOcycORNnzpyBQqFAtWrVMGTIEHh4eGhd87lWrVqhX79+6NKly0tDwtOnT/HPP//gww8/fGUtI6OirQOrzyUZDHElmj7t3bsXzZo1M1h9fX7/XrRkyZJXntflb7QhpaamYs6cOWohatCgQXB2dn7jfWHQ0aPSpUvjxIkTcHd3Vws6KSkpqFatGp48eaJxzd69e6NZs2bo16+fAXoMWFpaYv/+/Qb5g+Tm5oaBAwdi5MiReq17+vTpQkcvdHl1+qboe12JypUrY8aMGQgMDFQLxTNmzMCBAwewYsWKItd6frVcUbxrC1WuWbMGPXr0QP369dUueT58+DBWrFiBTz75pJh7WPz0eSXa/fv3sWbNGly+fBlRUVGws7NDUlISHB0d9bIsA/3PkSNHpPBevXp1eHt7F3eX9I4LBupRmTJlcOvWrQKvKo8ePar1L+f777+P0aNHIyEhwSBD8dWqVcPjx491qvEy6enpev0HcPnyZXTq1AknTpyQFk0EIAUFbV+d1qtXD9u3b4etre1rFy7TdhTq7t276Nq1K3bu3Km2rkS/fv10WlciNTUVNWvWBPAsaKtUKgCQ3u7URJ06ddSe15d52xdnNIQRI0Zg9OjRmDBhgtrxsWPHYuTIkVr9nOd/i+l1tA3xS5cuRbdu3WBmZqZ2PDs7G6tWrdJ4HZ0X5eTkYMOGDVi0aBG2bt2K+vXrY9asWejRowfu3bsnPTenT58ucs3jx4+jdevWUCqVSElJQb9+/WBnZ4d169bh6tWrWLp0aZHqGHoRQkN+/zIyMmBjYyN9/CrP22nqxo0b6NGjB/755x9pUdf79++jcePGWLlypcZrAR0/fhxeXl4wMjJ67YumN/1CiSM6ejRixAjs378fq1evxvvvv4+kpCSkpaWhV69e6NWrl1Zr0hhyKB4AtmzZgvHjx2PSpEmFBiltf4kAICwsDA0aNMCAAQN06uNz7du3h7GxMebPn49KlSrh0KFDuHv3LiIjIzF16lSth6bHjx+PL7/8EpaWlmoLlxVGm+8hYLh1JTw8PLB06VI0bNgQzZo1Q2BgIEaNGoVff/0VQ4YMwe3bt4tc63VzoPLTZj5U586dERsbCxsbG3Tu3PmVbbWdCwU8+wP+xx9/FDrqp+3cH0tLSxw/frzAGk4XLlxA7dq18ejRI41rvom3mIyNjXHr1q0Cb7nevXsXDg4OOgVWQ81Lad26NerVq4cffvhBbWR83759CA4OLvL6W4ZehNCQ37/83zcjI6NCA5vQcXV8X19fZGRkYMmSJdLbr+fOnUNoaCisrKywZcsWjerlXyD2eZ8LixfF8UKJIzp6NGnSJPTp0wfly5eHEAKenp7Izc1FcHAwvvnmG61qajIxVRv+/v4Anr3HnJ+2v0T5V06tUqUKvv32Wxw4cEAvo1H79+/Hjh07UK5cORgZGcHIyAhNmzZFdHQ0IiIicPToUY3qPZc/vGgbZF5ny5Yt2Lx5s7Ti8nNVq1bVKGC8qFOnTti+fTsaNmyIoUOHokePHli4cCGuXbuGL774QqNa+pjM/SpKpVL6g62PVawLs337dnTo0AHu7u44d+4cvLy8kJKSAiEE6tWrp3XdFi1aYO/evQWCTkJCgtYBW9NJqdp42VujN27c0Pl7cPr0acycOfOV81JcXFw0ntx7+PBhzJs3r8Dx8uXLIzU1tch18v8u9+vXDxERES9dhFAbhvz+5V9oVZvJ0UWxd+9e7Nu3T22OmYeHB2bOnIkmTZpoXO/KlSvSJG9D/9/SFIOOHpUqVQpxcXGYMGECjh49iry8PNStWxdVq1Yt7q69lL5/iaZPn672eenSpbF7927s3r1b7bhCodA46OTm5qJ06dIAnl3FdPPmTXh4eMDNzQ3nzp3TreMGlpmZCUtLywLH//vvvwJvK2giJiZG+vjjjz+Gq6sr/vnnH1SpUkXnOUvLli3D3LlzceXKFezfvx9ubm746aef4O7urtVqrIsXLy70Y30aPXo0IiMjMWHCBFhbW+P333+Hg4MDevbsKYX6osr/1kSHDh0wcuRIJCYmSlsHHDhwAKtXr37tKGBxeP62jUKhQKtWraSr54Bnv0dXrlzR+PnILycnBxUqVEDDhg1feYWViYmJxpNvzc3NC3275ty5c4VeLVUUq1evxpEjRwoc//TTT1G/fn2dthwxhOfP2dOnT7Fr1y6EhobqfSPZChUqFLoNz9OnT7WaapH/hZKhXzRpim9dvYWGDx+OiRMnwsrKCsOHD39lW22H4kuiZs2aITIyEkFBQQgODkZ6ejq++eYb/PLLL0hMTMTJkye1qmvobTwAIDAwEPXq1cPEiRNhbW2N48ePw83NDd27d0deXp5WSw8Y0pw5czBmzBgMGzYMkyZNkvbBiY2NxZIlS3QOyOPHj8enn36q96sJ80/ItrW1RUJCAmrUqIFjx46hY8eOGm07Yui3lgy1bxTwv7dtxo8fj8jISOkFAvDsUuuKFSu+ciSmKMqUKYOkpCRUqlRJ6xqF6d+/P+7cuYPffvsNdnZ2OH78OIyNjREUFITmzZvjp59+0rimk5MToqOj0bdvX7XjixcvxqhRo5CWlqZxTUN+//KztrbGiRMnULFiRa1rFGbDhg2YPHky/u///g/e3t5QKBQ4cuQIhgwZgpEjRyIoKEijem9izpm2GHT0TB/zA1q2bIl169ahTJkyr7wMF9DfiMyjR48K7fPbdHXN5s2bkZmZic6dO+PSpUto3749zp49i7Jly2LVqlUF3n4rqtddvpmftpdyGmpdiejoaDg6OiI0NFTt+KJFi3Dnzh2tr3jz9PTE5MmTERQUpDZP4uTJk2jRogX+++8/reo+V6tWLZw6dQoNGjTAp59+im7dumn9aj0/Jycn7NixA56enqhRowaio6PRoUMHHDt2DE2aNMHDhw91vg99eRP7Ri1ZsgTdunXT+7IGAKS1eV73YkxTGRkZaNu2LU6dOoUHDx7AxcUFqamp8PHxwaZNmwrs51YUMTExGDduHPr166c2Irdo0SKMGTMGo0aN0rjmm/j+AUBQUBCCgoLQp08frWs89+KLuszMTDx9+lQa8Xv+sZWVlcYv6opjWYOiYtDRo9fND9B2bRBDunPnDvr27Yu///670PO6/EC+7A+gQqGAubk5qlSpgo4dO+q06/a9e/c0GpEpToZYV6JixYpYsWIFGjdurHb84MGD6N69u9bvlVtYWODs2bNwc3NTCzoXLlxArVq19HKl3qlTpxAXF4dVq1bhxo0baN26NT799FMEBQUV+jZfUQQFBSEwMBDh4eEYMWIE1q1bhz59+mDt2rWwtbXFtm3bdO43PTNp0iRMnToVrVq1gre3d4EAousVoTt27EBSUpL0u9K6dWud6ul7EcI3Zd68eRg3bhx69uxZ6POsyejIm3hR9zZi0NGjDz74AP7+/tL8gGPHjqnND/j888+LXOt1V6UAz97/dnJyQps2bdC+fXut+tyzZ0+kpKTgp59+kkaS0tLS8N1332HatGkIDAzUqi7wbGQqKSkJubm58PDwgBACFy5cgLGxMapVq4Zz585BoVAgISEBnp6eL61j6OfidZdv5qfLVWiGYG5ujjNnzhR4dXn58mV4enpqtXYT8GxEJzo6Gh07dlQLOjNmzMCSJUuQmJioj+5L/vnnH6xYsQKrV6/GkydPNPqe5Hf58mU8fPgQtWrVwqNHjxAVFSWt6Dx9+nSd5g7s3r0bU6dOVVtz5Msvv9TrQnTZ2dm4cuUKKleurDavRhN2dnY4f/487O3tX/siQJdVdQ19RSjw7GopMzOzEvFC5rkXl73Q1atGSt7FpR60wcnIenTmzBnpcksTExM8fvwYpUuXxoQJE9CxY0eNgk5RrojIy8vDhQsXsGDBAkRFRRVY46ModuzYgQ0bNqBBgwYwMjKCm5sb2rRpAxsbG0RHR+sUdJ6P1ixevFhtTYiwsDA0bdoU4eHhCA4OxhdffIHNmze/tI6hn4syZcq89o+SNlehvYkF+J5PPn7xn84///wDFxcXrWoCwJdffolBgwbhyZMnEELg0KFDWLlyJaKjo7FgwQKt676MlZUVLCwsYGpqigcPHmhdJ/98EUtLS8yePVsf3cPy5cvRt29fdO7cGRERERBCYN++fWjVqhViY2MRHBysU/1Hjx5hyJAh0ivu8+fPo1KlSoiIiICLi4tGb61Mnz4d1tbW0seGCAlCCOzcuRMODg5aj769TF5eHiZNmoS5c+ciLS1Nei6+/fZbVKxYEWFhYVrXzs7OLnQ7mgoVKujabSxduhRTpkzBhQsXADxbA+3LL79ESEiITnXfxNV5jx8/LjAxWdMXdW9qzpJWDL+d1rvD0dFRnDp1SgghhKenp7S7eHJyskG3pv/rr7+Eq6urVl9rbW0tbRbn5uYmEhIShBBCXL58WVhYWOjULxcXF+n5yO/kyZPCxcVFCCFEYmKiKFu2rE73k582z8WuXbuKfNNE/k1HX3XTZUPSmJgYUbZsWbFo0SJph/iFCxeKsmXLismTJ2tdVwghfvnlF1GhQgWpn++9955YsGCBTjXzu3z5svjuu+9E9erVhbGxsWjZsqWYP3++uH//vtY1e/fuLXbv3q23Pj5XrVq1QneWnzZtmqhWrZrO9SMiIoS3t7fYu3evsLKyknZ73rBhg6hTp47O9fUtNzdXlCpVStqhWp/Gjx8vKlWqJJYvXy4sLCyk5+LXX38VjRo10qrm+fPnRdOmTYWRkZHaTV8bAk+bNk1YWlqKESNGiA0bNoj169eLL7/8UlhaWhb6c1MUAQEBar8L3333nUhPT5c+/++//7TaJPS5hw8fikGDBoly5coVeF60eU4qVqxYpJu7u7vWfdYWg44edezYUfzyyy9CCCG+/PJLUaVKFfHdd9+JevXqiVatWhnsftPT00WnTp20+tr69euL+Ph4IcSz/oeEhIgbN26IESNGiEqVKunULysrK7Fz584Cx3fu3ClKly4thBDi0qVLwtraWqf7yU+X50LfngePoty0lZeXJ0aMGCHMzc2lP1CWlpZi/Pjxenscd+7cEWlpaXqrJ4QQjRo1EkZGRqJ27drihx9+EDdu3NBL3c6dOwszMzNRpUoVMWnSJL3VNTU1FRcuXChw/MKFC8LMzEzn+hUqVBD79+8XQjzb7fn5P/cLFy5o/PuhUqmKfNOFp6en1Gd9qly5sti2bZsQQv25OHPmjChTpoxWNRs3biyaN28uNm3aJI4ePSqSk5PVbrqqWLGiWLJkSYHjsbGxomLFilrVNDIyUvu9s7a2lp4LIYRITU3VKaQNHDhQVK9eXaxevVpYWFiIRYsWiYkTJ4r33ntPLF++XOu6byMGHT26dOmSOHbsmBBCiMzMTPH555+LmjVrik6dOun0z8yQli9fLhYvXiyEECIpKUlK9+bm5mLVqlU61Q4ODhbu7u5i7dq14vr16+LGjRti7dq1olKlSuLTTz8VQgixcuVK4e3trevD0JuKFSuK8ePHi6tXrxZ3VzTy4MEDcejQIXHixAnx5MmT4u7Oa40ePVqcPHnSILX/++8/8dNPP4k6deoIExMT4e/vL1avXi2ys7O1rlm5cmUxd+7cAsfnzp0rqlSpokt3hRBCbeQi/z/35ORkYWNjo1Gt56MURbnp4q+//hJNmzYVJ06c0KnOi8zNzaW/l/mfi1OnTmk9Mm5paSnOnDmjtz6+yMzMrNAgfP78ea2DsEKhUAs6+Z8LIXQPOq6urtILUWtra6n/S5cuFQEBAVrXzS8rK0ucPXtW5OTk6KWethh03lGZmZli4MCBwsXFRZQrV0706NFD3LlzR2RmZorExERx584dne/jwYMHol+/fsLU1FT6w2pqairCw8PFw4cPhRBCHD16VBw9elTn+9KXGTNmiHr16gljY2PRunVrsXLlSr0Fh3Pnzol58+aJiRMnivHjx6vd9EWlUol169aJ06dP61SnTp06om7dugVu9erVE40bNxa9evUSO3bs0Lm/hv5DmJSUJAYPHizMzc2Fvb29GDZsmEZvt/Tt21dkZGSI2bNnC1NTUzFgwACxdOlSsWzZMvHZZ58JMzOzQgOQppo3by5mzJghhHj2D+3y5ctCCCEGDRokfH19NaqV/63W2NhY4eTkJEaNGiU2bNggNmzYIEaNGiWcnZ1FbGysTn0uU6aM9Lttbm4ubG1t1W7a8vb2FsuWLRNCqP9zHzdunGjatKlWNevXry/27t2rdZ9ep0aNGmLSpEkFjk+cOFF4eXlpVdPQQcfKykoKlOXLlxcHDx4UQjx7S1nXqRaZmZkiNDRUGBsbC2NjY6nfQ4YMEdHR0TrV1gaDjgFkZWWJ69evi6tXr6rd3iZRUVHC0tJShIeHi4iICGFvby8+/vhjg9zXgwcPxLFjx0RycrJ48OCBQe5D35KTk0VERIQoV66csLW1FYMGDRKJiYla1/vll1+EsbGxcHR0FLVr1xZ16tSRbnXr1tW67ieffCJmzpwphBDi0aNHomrVqqJUqVLCxMRErFmzRuu6o0aNEkqlUjRt2lQMHz5cfPHFF6JZs2ZCqVSKoUOHijZt2ggjIyOxfv16reo/evTI4H8Ib968KWJiYsT7778vrKysRK9evUSbNm2EiYlJkedN5H/7YO3ataJJkybCzs5O2NnZiSZNmmj9+F/0zz//CGtrazFgwABhbm4uhg4dKlq3bi0sLS3FkSNHtK770UcfiRUrVhQ4HhcXJz788EMdevzsbZlX3bT1xx9/CKVSKWJiYoSlpaWYMmWK9IJpy5YtWtXcvn278PHxETt37hT//fefXt/CE0KINWvWCGNjY+Hn5ycmTJggJk6cKPz8/ISJiYlYu3atVjWNjIzE7du3pc/zB2AhdA86NWvWlOYdtmnTRkRGRgohhPj5559F+fLlta4rxNs354xBR4/OnTtn0Alv+lSpUiWxcuVK6fODBw8KExMT8fTp02Ls1dsnOztb/PTTT8LMzEwYGRmJWrVqiYULF4q8vDyN6lSoUEHExMTovX+Ojo7SHIO4uDhRpUoVkZmZKWbPnq3TH5R+/fqJCRMmFDg+ceJE0a9fPyGEEGPGjNH6bUdD/SHMzs4Wa9asEYGBgaJUqVLC29tbzJkzR2RkZEhtVq5cWeS5Hi++qta3KVOmSB8fP35c9OrVS9SoUUNUr15d9OzZUxw7dkw0bNhQ6/oWFhaFjmCdO3dO54sNDCk+Pl40b95cWFlZCQsLC9GkSROxefNmrevln/hvqL/NR44cET179hT16tUTdevWFT179hRJSUk69blt27aiU6dOolOnTsLExET4+vpKn7dt21anvv/444/i559/FkIIsWPHDmFhYSGN0P30009a1xVCv3PO9IHr6OhRkyZNYGJiglGjRsHZ2bnAZZ21a9cupp4VZGpqiitXrqjtaWJhYYHz58/rtKfKm9qh2tBycnKwbt06LF68GFu3bkWjRo0QFhaGmzdvYtasWWjZsiVWrFhR5Ho2NjZITk7W+3L5+b9nvXr1gouLC2JiYnDt2jV4enpqvRKwUqlEYmJigU0sL168CG9vb6hUKpw9exYNGjTQ6nJwNzc3/Prrr2jUqJHaOj0XL15EvXr1tF5Hx97eXtpINzw8HHXq1JHO/fvvvyhfvjzS09NRr169Ii2maGRkhLS0NL2s2lwYCwsLzJ49u8DWBADw4MED+Pn54f79+zh9+rRW9T08PNCuXTtMmzZN7XhkZCT++usvve0Rp4/Lk4FnK/NOmjRJ73s7vbjXXn5Hjx7FsGHDtKpb1J9TbZ6Lwn4mCqOvfeOuXbuGI0eOoHLlyjr/r7K0tJS2jcn/+33s2DE0b94cKpVKL30uKq6jo0fJyclITExEtWrVirsrr5Wbm1tgnxsTExM8ffpUp7pvYodqQ0pKSsLixYuxcuVKGBsbIyQkBNOnT1f7nvr6+qJ58+Ya1f3kk0+wZcsWDBgwQK/9dXV1xf79+2FnZ4f4+HisWrUKAJCenq7Tsv/m5ubYt29fgaCzb98+qW5eXp7WG5LeuXMHDg4OBY5nZmbqtO7L9OnT0bVrV7V+paamYtKkSViwYAEeP34MW1tbjVaMfv/991/bJ20X3lu2bBlCQkJga2urtrdQZmYm/P39cffuXezZs0er2sCz56NLly7YvHmz2tYHly5dwu+//6513ed9HDlyJH777TfcvXu3wHltFrIzMTHBlClT9L4q74sbi6pUKsTFxWHBggU4duyY1kGnKGtwAdo9F4ba+Pbx48fYvn072rVrB+DZRrhZWVnS+QMHDsDDw0Onvx8NGjTAxo0bMWTIEAD/Wzxx/vz58PHx0aH32mHQ0SNPT0+d9wB6U4QQ6NOnj9o/hCdPnmDAgAFqS4xrOuryJnaoNqQGDRqgTZs2mDNnDoKCglCqVKkCbTw9PdG9e3eN6lapUgXffvstDhw4gJo1axaoq+0CWsOGDUPPnj1RunRpVKhQAS1atAAA7NmzBzVr1tSqJgAMGTIEAwYMQGJiIho0aACFQoFDhw5hwYIF+OqrrwA823usbt26WtV/1R/C5/+QNXH//n0MGjQIW7ZswahRozBy5EgMHjwY48aNw9SpU1GjRg2td6geP368wUL7xx9/jPv37yM4OBgbN25Ey5Yt8fDhQ/j7++POnTvYtWsXHB0dta7ftm1bnD9/HnPmzMHZs2chhEDHjh0xYMAAnUdMRowYgZ07d2L27Nno1asX/u///g///vsv5s2bh5iYGK3rtm7dGrt27dLL3k4v2rFjBxYtWoS1a9fCzc0NXbp0wcKFC7Wul3+vQSEE2rZtiwULFmi1+/ebsnTpUvz1119S0Jk1axZq1KgBCwsLAMDZs2fh7OyML774Quv7iI6Ohr+/P06fPo2nT5/i559/xqlTp7B///5Xjq4ZCt+60lH+ocsjR47gm2++weTJkwv9Z/Y2bR/wJoZF58+fjxYtWqBq1apa13jTrl69qtM2AS9jyOXyjxw5gpSUFPj4+Eh/YDdu3IgyZcqgSZMmWteNi4vDrFmzpLc3PDw8MGTIEGkV4MePH0v7lmlq37598Pf3R8+ePREbG4vPPvsMp06dwr59+7Bnzx54e3trVG/gwIH4888/0a1bN/z99984e/Ys/Pz88OTJE4wdO7bAK/qiMjIyQmpqaqGjT/r0ww8/YNKkSdiwYQO+/fZb3Lp1C7t3736r/2FWqFABS5cuRYsWLWBjY4OkpCRUqVIFy5Ytw8qVK7Fp0yat6upzbyfg2UbLsbGxWLRoETIzM9G1a1fMnTsXx44de+XWM9rI/zbN26p58+b44osv0KlTJwAF+7x8+XL83//9H/bv36/T/Zw4cQJTp05V29tv5MiROr0A09obnxUkMy9OcDP0hLeSxMPDQygUCuHs7Cy6d+8u5s6da9C1LPSpJFw5l56eLgYOHCjKli0r/ayVLVtWDBo0SG0F1beJoSbfVqhQQWzdulUI8Ww9K4VCIYYOHapzf19ctM2QRo0aJYyMjESlSpXE9evX9VZ3z549omfPnsLHx0daQHHp0qU6X25tqMuT9bmKeEBAgLC2thY9evQQf/31l3SxhYmJSaGrtuvqxUvA30aOjo5qa1jZ29tLq+ML8WyiuqZrN73t+NaVjvIPXZK6s2fPIjU1FTt37sTu3bsxffp0DBw4EOXKlUOLFi2k+SRvk/PnzyMsLAz79u1TOy602OvKkO7duwcfHx/8+++/6NmzJ6pXrw4hBM6cOYPY2Fhs374d+/btg62trU73o++9gb799luULVsWffv2Rc2aNdV2U34++Vabicg3b96UXp1XqlQJ5ubm6Nevn1Z9zE8YeMD7xQn7pUqVgr29fYG3MrWduP/7778jJCQEPXv2RFJSkjQX48GDB5g8ebLWoy7As+c5JSUFbm5u8PT0xG+//YYPPvgAf/75J8qUKaN1XX3u7bRlyxZERETg888/L1Ejy4akUqnUNoy9c+eO2vm8vDy1OTuaMDIyeu2cJYVCofNcUE0x6OhI2yHxd4WTkxN69OiBDh06ICEhAatWrcLy5cuxZs2a4u5aofr27QsTExP89ddfhV45p4sbN27gjz/+wLVr15Cdna127scff9So1oQJE2BqaopLly4VmMMxYcIE+Pr6YsKECZg+fbpWfb1w4QJCQ0P1HvgMNfk2Ly9P7a1iY2PjAm95aMPQGyq+OPenR48eeq3/3XffYe7cuejVq5faC4vGjRtrtQlwfn379sWxY8fw4YcfYvTo0QgMDMTMmTPx9OlTjX+egWfzZwYPHowDBw4UeJtfpVKhcePGmDt3rka7xe/duxeLFi1C/fr1Ua1aNYSEhKBbt24a900Tb/tO6++99x5OnjwJDw+PQs8fP34c7733nla1161b99Jz+/btw8yZMw3+4qEwnKOjR4sXL0bp0qXxySefqB1fvXo1Hj16pPcrCd52f//9N3bv3o1du3bh2LFjqFGjBpo3b44WLVqgWbNmOo82GIKVlZVBrpzbvn07OnToAHd3d5w7dw5eXl5ISUmBEAL16tXDjh07NKpXsWJFzJs3D35+foWej4+Px4ABA5CSkqJVfw25VMKCBQsQERFRYPLt7du3sWvXLq12XTcyMkJAQIA0uf7PP//ERx99VCDsvM1LGhiCpaUlTp8+jYoVK6rNxbh8+TI8PT3x5MkTvd2Xrpcnd+jQAS1btnzpJNgZM2Zg586dr/xn+jKPHj3CqlWrsGjRIhw6dAi5ubn48ccfERoaKu30ro0XR+RKws/d0KFDsW3bNiQmJhaYX/f48WPUr18frVu3xs8//6yX+zt79ixGjx6NP//8Ez179sTEiRP1slu8Jjiio0cxMTGYO3dugeMODg7o37//Oxd0AgMDUa5cOURGRmLz5s0l4nJzQ105N3r0aERGRmLChAmwtrbG77//DgcHB/Ts2RP+/v4a17t16xZq1Kjx0vNeXl5ITU3Vur+GXCqhX79+uHfvHoKCgqTJt6mpqdi9e7dWIQdAgd+tTz/9VB9dLfGcnZ1x8eJFVKxYUe14QkKCThNm8/LyEBsbi7Vr1yIlJQUKhQLu7u74+OOPUatWLa1qHjt2DN9///1Lz/v6+mLq1Kla1ba0tERoaChCQ0Nx7tw5LFy4EDExMRg1ahTatGmDP/74Q6u6L/5NKwk/d1999RV+++03eHh4YPDgwdLyCWfPnsWsWbPw9OlT6cpKXdy8eRNjx47FkiVL4Ofnh+TkZHh5eenhEWih+KYHyY+ZmZnapK7nrly5IszNzd98h4rZ9OnTRadOnYS9vb1wdHQUXbt2FbNnz9Z5HyZ9y78UvKGWii9durS4ePGiEOLZHkHPJwMmJycLNzc3jeu5uLi8cjLpnj17hIuLi1Z9FcLwewMJYbjJt/Q/33//vfD09BQHDhwQ1tbWYu/evWL58uWiXLly0tYhmsrLyxOBgYFCoVCIOnXqiO7du4tu3bqJWrVqCYVCITp27KhV3ZdtjPnchQsX9Pp39OnTp2LdunWiffv2eqtZUly+fFn4+flJF8s8n+jt5+en82Tq+/fvixEjRggLCwvh4+Mj9uzZo6dea49BR49cXV3Fhg0bChxfv369znuHlHTHjx8XM2fOFJ07dxalSpUSTk5Oxd0lSWFXzr3sajptOTo6Sld5eHp6Sj8nycnJWl2hEhoaKpo3by6ysrIKnHvy5In48MMPRWhoqNb9NVTge758/fObmZmZ+OCDDwocJ/356quvhIWFhfRzbW5uLr755hut6y1atEhYW1sXuqnr9u3bhbW1tViyZInGdStVqvTKfaF+//134e7urnFderm7d++KgwcPioMHD4q7d+/qXO/7778XdnZ2wtPTU2/7wOkD5+jo0YgRI/Dbb79h8eLF0sq5u3fvRmhoKD7++GOth11LuqNHj2LXrl3YuXMn9u7diwcPHqBu3bo4fPhwcXcNwKuXh3+RtpPPg4KCEBgYiPDwcIwYMQLr1q1Dnz59sHbtWtja2mLbtm0a1btx4wbq168PMzMzDBo0SHqL6fTp05g9ezaysrJw5MgRrReFMzIyAlBwYqXQcTLym17W/l2Wm5uLhIQE1KxZE+bm5jh9+jTy8vLg6emJ0qVLa13X19cXH330EUaNGlXo+cmTJ2P37t3YvHmzRnWHDBmCXbt24fDhw4XOHfnggw/QsmVLzJgxQ+u+k2EZGRnBwsICrVu3hrGx8Uvbvek5Sww6epSdnY2QkBCsXr1aunwvLy8PvXr1wty5cwtsuSB3z6+0ysjIQJ06ddCiRQu0aNECzZs3f6sWTwSeTVb88ssvsX79euTk5KB169aYMWMG7O3t9VL/8uXLePjwIWrVqoVHjx4hKioKCQkJqFKlCqZPn67VIoVXrlzBwIEDsWXLFulKBoVCgTZt2mDWrFkFtm/QhKH2BqI3y9zcHGfOnHnlgpWacnJyQnx8vNo+YvkdPXoUAQEBGs8RS0tLQ7169WBsbIzBgwfDw8MDCoUCZ86cwf/93/8hNzcXSUlJOq0UTYbVp0+fIl119qZfyDDoGMD58+dx7NgxWFhYoGbNmgZZabckiIqKQsuWLdGsWbO3Lti86Msvv8Ts2bPRs2dPWFhYYMWKFWjRogVWr15d3F17rfT0dFy4cAHAs60m7Ozs9H4fL+4N9LasJ0Sv1qBBA8TExKBVq1Z6q2lqaoqrV6/C2dm50PM3b96Eu7u7VmuxXL16FZ9//jk2b96sFt79/Pwwe/bsApOqiYqCQYcMIi8vD4sXL8a6desKXJUREhLy1q01UblyZUyaNEnaw+rQoUNo0qQJnjx58soh2KKqVKkSDh8+jLJly6odv3//PurVq6fTFhCGVNjeQF26dNF6jyt6s7Zs2YKRI0di4sSJhW6noM0LEGNjY6Smpr50R/e0tDS4uLjoFIbT09Nx8eJFCCFQtWrVt3IpCio5GHR0NHz4cEycOBFWVlYYPnz4K9tqs4hWSSSEQPv27bFp0ybUrl0b1apVk1btPXHiBDp06ID169cXdzfVmJqa4sqVK2p7C1lYWOD8+fM6b34IvHzPpLS0NFSoUEHrlUgN4U3uDUSG9XyuFaA+30qXuVYvrln0oqysLMTHx3PUj94aXEdHR0ePHkVOTo70MQGxsbHYs2cPtm/fjpYtW6qd27FjB4KCgrB06VL06tWrmHpYUG5uboE5VCYmJjovVZ5/fY4X1xLKzc3F9u3b36rh+LZt2yIhIQHt2rXDzJkz4e/vD2Nj40LXh6K3nyG2qCnKemBv0+82EUd0SO8MdVWGIRX2KrWwVU41vVog/9VLL/6qlSpVChUrVsS0adPQrl07HXqvPyYmJoXuDVSqVCmO6BBRicQRHT0IDQ19bRuFQoGFCxe+gd4Uv+PHj+OHH3546fmAgIC37hLRwl6l6mOV0+d7Jbm7u+Pw4cN6u4rLUIpjbyAyrL1792LevHm4fPkyVq9ejfLly2PZsmVwd3dH06ZNi7t7RAbHER09MDIygpubG+rWrfvKDcu02aOlJDLkVRklzcGDB3Hv3j0EBARIx5YuXYqxY8ciMzMTQUFBmDlz5kvnOxQXQ+0NRG9W/t3Lly1bhtOnT6NSpUqYPXs2/vrrL512LycqMd7g4oSy9fnnnwtbW1tRu3Zt8fPPP+tlhcmSzMjISNy+fful51NTU3VaZbgk8fPzEzExMdLnx48fFyYmJqJfv35i2rRpwsnJSYwdO7b4OlgEZ8+eFV9++aVwcnIS5ubm7+SS+SVVnTp1pFWKS5cuLS3vf/ToUeHo6FicXSN6YziioydZWVlYu3YtFi1ahH379iEwMBBhYWHw9fV96y6lNjRelfE/zs7O+PPPP1G/fn0AwNdff43du3cjISEBwLOd7ceOHYvTp08XZzeLJDc3F3/++ScWLVqk9SaI9Ga9yd3Lid5WnKOjJ2ZmZujRowd69OiBq1evIjY2FgMHDkROTg5Onz6t05LrJQ2vyvif9PR0tZVcd+/erbZbeYMGDXD9+vXi6JrGjI2NERQUhKCgoOLuChWRoXYvJypJGHQMQKFQSFfZPJ+M+i7hPkX/4+joiCtXrsDV1RXZ2dlISkrC+PHjpfMPHjxAqVKlirGHJGefffYZhg4dikWLFkGhUODmzZvYv38/oqKiMGbMmOLuHtEbwaCjJ/nfunq+DsmsWbPg7++vtmgXvVv8/f0xatQofP/991i/fj0sLS3RrFkz6fzx48dRuXLlYuwhydmIESOgUqnQsmVLPHnyBM2bN4eZmRmioqIwePDg4u4e0RvBOTp6MHDgQKxatQoVKlRA37598emnnxZY6p/eTXfu3EHnzp3xzz//oHTp0liyZAk6deoknW/VqhUaNWqESZMmFWMvSe4ePXqkt93LiUoaBh09MDIyQoUKFVC3bt1XTjx+01vT09tDpVKhdOnSBfbNunfvHkqXLv3O7WxPhlWUtb0AYNGiRQbuCVHx41tXetCrV6937soq0kz+rR/yM8RO40SxsbFFWtuL6F3AER0iIpnJ/3Z6aGgoPv30U4Zqemcx6BARyRDX9iJ6hkGHiEjmnq/ttXTp0ndybS96t/G6ZyIimXvX1/aidxuDDhGRDGVlZWHlypVo06YNPDw8cOLECcyaNQvXrl3jaA69U3jVFRGRzLy4tteqVau4the9szhHh4hIZri2F9H/cESHiEhmuLYX0f9wRIeIiIhki5ORiYiISLYYdIiIiEi2GHSIiIhIthh0iIiISLYYdIiIiEi2GHSIiIhIthh0iIiISLb+H27XUNd6h8IYAAAAAElFTkSuQmCC\n",
      "text/plain": [
       "<Figure size 640x480 with 1 Axes>"
      ]
     },
     "metadata": {},
     "output_type": "display_data"
    }
   ],
   "source": [
    "#pd.set_option(\"display.max_rows\", None)\n",
    "threshold_freq = 435\n",
    "\n",
    "# get the value counts for the column\n",
    "value_counts = df['speaker'].value_counts()\n",
    "\n",
    "# filter the value counts based on the threshold frequency\n",
    "value_counts_filtered = value_counts[value_counts >= threshold_freq]\n",
    "\n",
    "# create a new DataFrame with only the rows that meet the threshold frequency\n",
    "df_filtered = df[df['speaker'].isin(value_counts_filtered.index)]\n",
    "\n",
    "# plot the filtered column values\n",
    "plt.tight_layout()\n",
    "plt.hist(df_filtered['speaker'])\n",
    "plt.xticks(rotation=90)\n",
    "plt.show()"
   ]
  },
  {
   "cell_type": "code",
   "execution_count": 36,
   "id": "c2eee0b8",
   "metadata": {},
   "outputs": [],
   "source": [
    "df_sample = df.sample(100)"
   ]
  },
  {
   "cell_type": "code",
   "execution_count": 41,
   "id": "2c3fa072",
   "metadata": {},
   "outputs": [
    {
     "name": "stdout",
     "output_type": "stream",
     "text": [
      "All right Jim. Your quarterlies look very good. How are things at the library? {'neg': 0.0, 'neu': 0.803, 'pos': 0.197, 'compound': 0.4927}\n",
      "\n",
      "Oh, I told you. I couldn't close it. So... {'neg': 0.0, 'neu': 1.0, 'pos': 0.0, 'compound': 0.0}\n",
      "\n",
      "So you've come to the master for guidance? Is this what you're saying, grasshopper? {'neg': 0.0, 'neu': 1.0, 'pos': 0.0, 'compound': 0.0}\n",
      "\n",
      "Actually, you called me in here, but yeah. {'neg': 0.0, 'neu': 0.714, 'pos': 0.286, 'compound': 0.4215}\n",
      "\n",
      "All right. Well, let me show you how it's done. {'neg': 0.0, 'neu': 0.811, 'pos': 0.189, 'compound': 0.2732}\n",
      "\n",
      "[on the phone] Yes, I'd like to speak to your office manager, please. Yes, hello. This is Michael Scott. I am the Regional Manager of Dunder Mifflin Paper Products. Just wanted to talk to you manager-a-manger. [quick cut scene] All right. Done deal. Thank you very much, sir. You're a gentleman and a scholar. Oh, I'm sorry. OK. I'm sorry. My mistake. [hangs up] That was a woman I was talking to, so... She had a very low voice. Probably a smoker, so... [Clears throat] So that's the way it's done. {'neg': 0.092, 'neu': 0.773, 'pos': 0.135, 'compound': 0.6712}\n",
      "\n",
      "I've, uh, I've been at Dunder Mifflin for 12 years, the last four as Regional Manager. If you want to come through here... See we have the entire floor. So this is my kingdom, as far as the eye can see. This is our receptionist, Pam. Pam! Pam-Pam! Pam Beesly. Pam has been with us for...  forever. Right, Pam? {'neg': 0.0, 'neu': 0.969, 'pos': 0.031, 'compound': 0.2225}\n",
      "\n",
      "Well. I don't know.--------------------- {'neg': 0.0, 'neu': 0.588, 'pos': 0.412, 'compound': 0.2732}\n",
      "\n",
      "If you think she's cute now, you should have seen her a couple of years ago. [growls] {'neg': 0.0, 'neu': 0.842, 'pos': 0.158, 'compound': 0.4588}\n",
      "\n",
      "What?----------------------------------- {'neg': 0.0, 'neu': 1.0, 'pos': 0.0, 'compound': 0.0}\n",
      "\n",
      "Any messages?--------------------------- {'neg': 0.0, 'neu': 1.0, 'pos': 0.0, 'compound': 0.0}\n",
      "\n",
      "Uh, yeah. Just a fax.------------------- {'neg': 0.0, 'neu': 0.645, 'pos': 0.355, 'compound': 0.296}\n",
      "\n",
      "Oh! Pam, this is from Corporate. How many times have I told you? There's a special filing cabinet for things from corporate. {'neg': 0.0, 'neu': 0.875, 'pos': 0.125, 'compound': 0.4574}\n",
      "\n",
      "You haven't told me.-------------------- {'neg': 0.0, 'neu': 1.0, 'pos': 0.0, 'compound': 0.0}\n",
      "\n",
      "It's called the wastepaper basket! Look at that! Look at that face. {'neg': 0.0, 'neu': 1.0, 'pos': 0.0, 'compound': 0.0}\n",
      "\n",
      "People say I am the best boss. They go, 'God we've never worked in a place like this before. You're hilarious.' 'And you get the best out of us.' [shows the camera his WORLD'S BEST BOSS mug] I think that pretty much sums it up. I found it at Spencer Gifts. {'neg': 0.0, 'neu': 0.649, 'pos': 0.351, 'compound': 0.9745}\n",
      "\n",
      "[singing] Shall I play for you? Pa rum pump um pum [Imitates heavy drumming] I have no gifts for you. Pa rum pump um pum [Imitates heavy drumming] {'neg': 0.072, 'neu': 0.85, 'pos': 0.078, 'compound': 0.0516}\n",
      "\n",
      "My job is to speak to clients on the phone about... uh, quantities and type of copier paper. You know, whether we can supply it to them. Whether they can pay for it. And... I'm boring myself just talking about this. {'neg': 0.087, 'neu': 0.913, 'pos': 0.0, 'compound': -0.4019}\n",
      "\n",
      "Whassup!-------------------------------- {'neg': 0.0, 'neu': 1.0, 'pos': 0.0, 'compound': 0.0}\n",
      "\n",
      "Whassup! I still love that after seven years. {'neg': 0.0, 'neu': 0.609, 'pos': 0.391, 'compound': 0.6696}\n",
      "\n",
      "Whassup!-------------------------------- {'neg': 0.0, 'neu': 1.0, 'pos': 0.0, 'compound': 0.0}\n",
      "\n",
      "Whassup!-------------------------------- {'neg': 0.0, 'neu': 1.0, 'pos': 0.0, 'compound': 0.0}\n",
      "\n",
      "Whass...up!----------------------------- {'neg': 0.0, 'neu': 1.0, 'pos': 0.0, 'compound': 0.0}\n",
      "\n",
      "Whassup.-------------------------------- {'neg': 0.0, 'neu': 1.0, 'pos': 0.0, 'compound': 0.0}\n",
      "\n",
      "[Strains, grunts] What?----------------- {'neg': 0.524, 'neu': 0.476, 'pos': 0.0, 'compound': -0.296}\n",
      "\n",
      "Nothing.-------------------------------- {'neg': 0.0, 'neu': 1.0, 'pos': 0.0, 'compound': 0.0}\n",
      "\n",
      "OK. All right. See you later.----------- {'neg': 0.0, 'neu': 1.0, 'pos': 0.0, 'compound': 0.0}\n",
      "\n",
      "All right. Take care.------------------- {'neg': 0.0, 'neu': 0.484, 'pos': 0.516, 'compound': 0.4939}\n",
      "\n",
      "Back to work.--------------------------- {'neg': 0.0, 'neu': 1.0, 'pos': 0.0, 'compound': 0.0}\n",
      "\n",
      "[on her cell phone] Just before lunch. That would be great. {'neg': 0.0, 'neu': 0.709, 'pos': 0.291, 'compound': 0.6249}\n",
      "\n",
      "Corporate really doesn't really interfere with me at all. Jan Levinson Gould. [walking out of his office] Jan, hello.  I call her Hillary Rodham Clinton. Right? Not to her face, because... well, not because I'm scared of her. Because I'm not. But, um... Yeah. {'neg': 0.05, 'neu': 0.88, 'pos': 0.07, 'compound': -0.0204}\n",
      "\n",
      "Alright, was there anything you wanted to add to the agenda? {'neg': 0.0, 'neu': 0.833, 'pos': 0.167, 'compound': 0.25}\n",
      "\n",
      "Um... Me no get an agenda.-------------- {'neg': 0.306, 'neu': 0.694, 'pos': 0.0, 'compound': -0.296}\n",
      "\n",
      "What? I'm sorry?------------------------ {'neg': 0.454, 'neu': 0.546, 'pos': 0.0, 'compound': -0.168}\n",
      "\n",
      "I didn't get any agenda.---------------- {'neg': 0.0, 'neu': 1.0, 'pos': 0.0, 'compound': 0.0}\n",
      "\n",
      "Well, I faxed one over to you this morning. {'neg': 0.0, 'neu': 0.792, 'pos': 0.208, 'compound': 0.2732}\n",
      "\n",
      "Really? I didn't... [looks at Pam] Did we get a fax this morning? {'neg': 0.0, 'neu': 1.0, 'pos': 0.0, 'compound': 0.0}\n",
      "\n",
      "Uh, yeah, the one...-------------------- {'neg': 0.0, 'neu': 0.577, 'pos': 0.423, 'compound': 0.296}\n",
      "\n",
      "Why isn't it in my hand? A company runs on efficiency of communication, right? So what's the problem, Pam? Why didn't I get it? {'neg': 0.097, 'neu': 0.686, 'pos': 0.217, 'compound': 0.5714}\n",
      "\n",
      "You put in the garbage can that was a special filing cabinet. {'neg': 0.0, 'neu': 0.803, 'pos': 0.197, 'compound': 0.4019}\n",
      "\n",
      "Yeah, that was a joke. That was a joke that was actually my brother's, and... It was supposed to be with bills and it doesn't work great with faxes. {'neg': 0.094, 'neu': 0.716, 'pos': 0.189, 'compound': 0.3195}\n",
      "\n",
      "Do you want to look at mine?------------ {'neg': 0.0, 'neu': 0.822, 'pos': 0.178, 'compound': 0.0772}\n",
      "\n",
      "Yeah, yeah. Lovely. Thank you.---------- {'neg': 0.0, 'neu': 0.085, 'pos': 0.915, 'compound': 0.8658}\n",
      "\n",
      "OK. Since the last meeting, Ellen and the board have decided we can't justify a Scranton branch and a Stamford branch. {'neg': 0.0, 'neu': 1.0, 'pos': 0.0, 'compound': 0.0}\n",
      "\n",
      "OK...----------------------------------- {'neg': 0.0, 'neu': 1.0, 'pos': 0.0, 'compound': 0.0}\n",
      "\n",
      "Michael, don't panic.------------------- {'neg': 0.0, 'neu': 0.425, 'pos': 0.575, 'compound': 0.4023}\n",
      "\n",
      "No, no, no, no, this is good. This is good. This is fine. Excellent. {'neg': 0.0, 'neu': 0.469, 'pos': 0.531, 'compound': 0.8834}\n",
      "\n",
      "No, no, no, Michael, listen OK. Don't panic. We haven't made... We haven't decided. {'neg': 0.0, 'neu': 0.828, 'pos': 0.172, 'compound': 0.4023}\n",
      "\n",
      "All the alarm bells are kind of going... ringie-dingie-ding! {'neg': 0.252, 'neu': 0.748, 'pos': 0.0, 'compound': -0.4003}\n",
      "\n",
      "I've spoken to Josh in Stamford. I've told him the same as you and it's up to either him or you to convince me that your branch can incorporate the other. {'neg': 0.0, 'neu': 0.938, 'pos': 0.062, 'compound': 0.25}\n",
      "\n",
      "OK. No problem.------------------------- {'neg': 0.0, 'neu': 0.47, 'pos': 0.53, 'compound': 0.3089}\n",
      "\n",
      "This does, however, mean that there is going to be downsizing. {'neg': 0.0, 'neu': 1.0, 'pos': 0.0, 'compound': 0.0}\n",
      "\n",
      "Me no wanna hear that, Jan. Because downsizing is a bitch. It is a real bitch. And I wouldn't wish that on Josh's men. I certainly wouldn't wish it on my men. Or women, present company excluded. Sorry. Uh, is Josh concerned about downsizing himself? Not downsizing himself but is he concerned about downsizing? {'neg': 0.212, 'neu': 0.759, 'pos': 0.028, 'compound': -0.8002}\n",
      "\n",
      "Question. How long do we have to... [Telephone rings] Oh uh, Todd Packer, terrific rep. Do you mind if I take it? {'neg': 0.0, 'neu': 0.871, 'pos': 0.129, 'compound': 0.4767}\n",
      "\n",
      "Go ahead.------------------------------- {'neg': 0.0, 'neu': 1.0, 'pos': 0.0, 'compound': 0.0}\n",
      "\n",
      "Packman.-------------------------------- {'neg': 0.0, 'neu': 1.0, 'pos': 0.0, 'compound': 0.0}\n",
      "\n",
      "Hey, you big queen.--------------------- {'neg': 0.0, 'neu': 1.0, 'pos': 0.0, 'compound': 0.0}\n",
      "\n",
      "Oh, that's not appropriate.------------- {'neg': 0.0, 'neu': 1.0, 'pos': 0.0, 'compound': 0.0}\n",
      "\n",
      "Hey, is old Godzillary coming in today?- {'neg': 0.0, 'neu': 1.0, 'pos': 0.0, 'compound': 0.0}\n",
      "\n",
      "Uh, I don't know what you mean.--------- {'neg': 0.0, 'neu': 1.0, 'pos': 0.0, 'compound': 0.0}\n",
      "\n",
      "I've been meaning to ask her one question. Does the carpet match the drapes? {'neg': 0.0, 'neu': 1.0, 'pos': 0.0, 'compound': 0.0}\n",
      "\n",
      "Oh, my God! Oh! That's... horrifying. Horrible. Horrible person. {'neg': 0.614, 'neu': 0.272, 'pos': 0.114, 'compound': -0.8802}\n",
      "\n",
      "So do you think we could keep a lid on this for now? I don't want to worry people unnecessarily. {'neg': 0.057, 'neu': 0.832, 'pos': 0.111, 'compound': 0.2924}\n",
      "\n",
      "No, absolutely. Under this regime, it will not leave this office. [zips his lips] Like that. {'neg': 0.0, 'neu': 0.793, 'pos': 0.207, 'compound': 0.3915}\n",
      "\n",
      "So what does downsizing actually mean?-- {'neg': 0.0, 'neu': 1.0, 'pos': 0.0, 'compound': 0.0}\n",
      "\n",
      "Well...--------------------------------- {'neg': 0.0, 'neu': 0.0, 'pos': 1.0, 'compound': 0.2732}\n",
      "\n",
      "You guys better update your resumes just like I'm doing. {'neg': 0.0, 'neu': 0.597, 'pos': 0.403, 'compound': 0.6597}\n",
      "\n",
      "I bet it's gonna be me. Probably gonna be me. {'neg': 0.0, 'neu': 1.0, 'pos': 0.0, 'compound': 0.0}\n",
      "\n",
      "Yeah, it'll be you.--------------------- {'neg': 0.0, 'neu': 0.577, 'pos': 0.423, 'compound': 0.296}\n",
      "\n",
      "I have an important question for you.--- {'neg': 0.0, 'neu': 0.769, 'pos': 0.231, 'compound': 0.2023}\n",
      "\n",
      "Yes?------------------------------------ {'neg': 0.0, 'neu': 0.0, 'pos': 1.0, 'compound': 0.4019}\n",
      "\n",
      "Are you going to Angela's cat party on Sunday? {'neg': 0.0, 'neu': 0.748, 'pos': 0.252, 'compound': 0.4019}\n",
      "\n",
      "Yeah, stop. That is ridiculous.--------- {'neg': 0.528, 'neu': 0.225, 'pos': 0.247, 'compound': -0.3612}\n",
      "\n",
      "Am I going to tell them? No, I am not going to tell them. I don't see the point of that. As a doctor, you would not tell a patient if they had cancer. {'neg': 0.118, 'neu': 0.882, 'pos': 0.0, 'compound': -0.6597}\n",
      "\n",
      "Hey.------------------------------------ {'neg': 0.0, 'neu': 1.0, 'pos': 0.0, 'compound': 0.0}\n",
      "\n",
      "Hey.------------------------------------ {'neg': 0.0, 'neu': 1.0, 'pos': 0.0, 'compound': 0.0}\n",
      "\n",
      "This is Mr. Scott.---------------------- {'neg': 0.0, 'neu': 1.0, 'pos': 0.0, 'compound': 0.0}\n",
      "\n",
      "Guilty! Guilty as charged!-------------- {'neg': 0.889, 'neu': 0.111, 'pos': 0.0, 'compound': -0.7896}\n",
      "\n",
      "Ryan Howard from the temp agency. Daniqua sent me down to start today. {'neg': 0.0, 'neu': 1.0, 'pos': 0.0, 'compound': 0.0}\n",
      "\n",
      "Howard, like Moe Howard. Three Stooges.- {'neg': 0.0, 'neu': 0.667, 'pos': 0.333, 'compound': 0.3612}\n",
      "\n",
      "Yup.------------------------------------ {'neg': 0.0, 'neu': 1.0, 'pos': 0.0, 'compound': 0.0}\n",
      "\n",
      "Watch this. This is Moe. Nyuck-nyuck-nyuck-nyuck-nyuck. Mee! [hold hand up for a high five] Ah, right here. Three Stooges. Oh, Pam. It's a guy thing, Pam. I'm sort of a student of comedy. Watch this. Here we go. [Yelling in cod German] I'm Hitler. Adolf Hitler. [Continues with cod German] {'neg': 0.0, 'neu': 0.889, 'pos': 0.111, 'compound': 0.7177}\n",
      "\n",
      "I don't think it would be the worst thing if they let me go because then I might... I don't think it's many little girls' dream to be a receptionist. I like to do illustrations. Um... Mostly watercolor. A few oil pencil. Um, Jim thinks they're good. {'neg': 0.076, 'neu': 0.793, 'pos': 0.131, 'compound': 0.2551}\n",
      "\n",
      "Dunder Mifflin. This is Pam.------------ {'neg': 0.0, 'neu': 1.0, 'pos': 0.0, 'compound': 0.0}\n",
      "\n",
      "Sure. Mr. Davis, let me call you right back. Yeah, something just came up. Two minutes. Thank you very much. Dwight, what are you doing? {'neg': 0.0, 'neu': 0.759, 'pos': 0.241, 'compound': 0.7184}\n",
      "\n",
      "What?----------------------------------- {'neg': 0.0, 'neu': 1.0, 'pos': 0.0, 'compound': 0.0}\n",
      "\n",
      "What are you doing?--------------------- {'neg': 0.0, 'neu': 1.0, 'pos': 0.0, 'compound': 0.0}\n",
      "\n",
      "Just clearing my desk. I can't concentrate. {'neg': 0.0, 'neu': 1.0, 'pos': 0.0, 'compound': 0.0}\n",
      "\n",
      "It's not on your desk.------------------ {'neg': 0.0, 'neu': 1.0, 'pos': 0.0, 'compound': 0.0}\n",
      "\n",
      "It's overlapping. It's all spilling over the edge. One word, two syllables. Demarcation. {'neg': 0.0, 'neu': 1.0, 'pos': 0.0, 'compound': 0.0}\n",
      "\n",
      "You can't do that.---------------------- {'neg': 0.0, 'neu': 1.0, 'pos': 0.0, 'compound': 0.0}\n",
      "\n",
      "Why not?-------------------------------- {'neg': 0.0, 'neu': 1.0, 'pos': 0.0, 'compound': 0.0}\n",
      "\n",
      "Safety violation. I could fall and pierce an organ. {'neg': 0.246, 'neu': 0.538, 'pos': 0.215, 'compound': -0.1027}\n",
      "\n",
      "[crosses fingers] We'll see. [Dwight begins smashing pencils with his phone] This is why the whole downsizing thing just doesn't bother me. {'neg': 0.0, 'neu': 0.912, 'pos': 0.088, 'compound': 0.2584}\n",
      "\n",
      "Downsizing?----------------------------- {'neg': 0.0, 'neu': 1.0, 'pos': 0.0, 'compound': 0.0}\n",
      "\n",
      "Downsizing? I have no problem with that. I have been recommending downsizing since I first got here. I even brought it up in my interview. I say, bring it on. {'neg': 0.0, 'neu': 0.928, 'pos': 0.072, 'compound': 0.3089}\n",
      "\n",
      "You just still have these messages from yesterday. {'neg': 0.0, 'neu': 1.0, 'pos': 0.0, 'compound': 0.0}\n",
      "\n",
      "Relax. Everything's under control. Uh, yeah. Yeah. That's important. Right. Oh this is so important, I should run to answer it. [Imitating Six-Million Dollar Man sound effect] {'neg': 0.0, 'neu': 0.657, 'pos': 0.343, 'compound': 0.8579}\n",
      "\n",
      "What?----------------------------------- {'neg': 0.0, 'neu': 1.0, 'pos': 0.0, 'compound': 0.0}\n",
      "\n",
      "Come on. Six-Million Dollar Man! Steve Austin! Actually, that would be a good salary for me, don't you think? Six million dollars? Memo to Jan. I deserve a raise. {'neg': 0.0, 'neu': 0.879, 'pos': 0.121, 'compound': 0.5919}\n",
      "\n"
     ]
    }
   ],
   "source": [
    "from vaderSentiment.vaderSentiment import SentimentIntensityAnalyzer\n",
    "analyser = SentimentIntensityAnalyzer()\n",
    "def sentiment_analyzer_scores(sentence):\n",
    "    score = analyser.polarity_scores(sentence)\n",
    "    print(\"{:-<40} {}\\n\".format(sentence, str(score)))\n",
    "\n",
    "for line in df.line_text[0:100]:\n",
    "    sentiment_analyzer_scores(line)"
   ]
  }
 ],
 "metadata": {
  "kernelspec": {
   "display_name": "Python 3 (ipykernel)",
   "language": "python",
   "name": "python3"
  },
  "language_info": {
   "codemirror_mode": {
    "name": "ipython",
    "version": 3
   },
   "file_extension": ".py",
   "mimetype": "text/x-python",
   "name": "python",
   "nbconvert_exporter": "python",
   "pygments_lexer": "ipython3",
   "version": "3.8.13"
  }
 },
 "nbformat": 4,
 "nbformat_minor": 5
}
