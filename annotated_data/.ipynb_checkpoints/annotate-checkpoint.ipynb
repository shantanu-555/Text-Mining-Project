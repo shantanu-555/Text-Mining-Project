{
 "cells": [
  {
   "cell_type": "markdown",
   "metadata": {},
   "source": [
    "## Easily annotate the data"
   ]
  },
  {
   "cell_type": "code",
   "execution_count": 2,
   "metadata": {},
   "outputs": [],
   "source": [
    "# put here either \"Luuk\", \"Shantanu\" or \"Eline\"\n",
    "name = \"Luuk\""
   ]
  },
  {
   "cell_type": "code",
   "execution_count": 24,
   "metadata": {},
   "outputs": [],
   "source": [
    "import csv\n",
    "import pandas as pd\n",
    "\n",
    "def annotate():\n",
    "    print(\"Please input the sentiment:\\n Negative=-1, Neutral=0, Positive=1\\nTo exit input 'Exit'\\n\")\n",
    "    df = pd.read_csv(f\"sample_{name}.csv\")\n",
    "    for line in df.itertuples(): \n",
    "        if not df.at[line.Index, \"Sentiment\"] in [-1,0,1]:\n",
    "            print(line.line_text, \"\\r\")\n",
    "            sentiment = input()\n",
    "            if sentiment.lower() == \"exit\":\n",
    "                break\n",
    "            try:\n",
    "                df.at[line.Index, \"Sentiment\"] = int(sentiment)\n",
    "            except:\n",
    "                print(\"invalid input\")\n",
    "    print(\"\\nWriting annotations to file...\")\n",
    "    n_annotated = df[\"Sentiment\"].count()\n",
    "    n_not_annotated = len(df) - n_annotated\n",
    "    print(f\"Annotated: {n_annotated} | Left: {n_not_annotated}\")\n",
    "    df.to_csv(f\"sample_{name}.csv\", index=False)\n",
    "    "
   ]
  },
  {
   "cell_type": "code",
   "execution_count": null,
   "metadata": {},
   "outputs": [
    {
     "name": "stdout",
     "output_type": "stream",
     "text": [
      "Please input the sentiment:\n",
      " Negative=-1, Neutral=0, Positive=1\n",
      "To exit input 'Exit'\n",
      "\n",
      "Just a little announcement folks, remember, the Dundies is a black tie affair. \n",
      "1\n",
      "Is it true that you're making Dwight the manager? \n"
     ]
    }
   ],
   "source": [
    "annotate()"
   ]
  },
  {
   "cell_type": "code",
   "execution_count": null,
   "metadata": {},
   "outputs": [],
   "source": []
  }
 ],
 "metadata": {
  "kernelspec": {
   "display_name": "Python 3 (ipykernel)",
   "language": "python",
   "name": "python3"
  },
  "language_info": {
   "codemirror_mode": {
    "name": "ipython",
    "version": 3
   },
   "file_extension": ".py",
   "mimetype": "text/x-python",
   "name": "python",
   "nbconvert_exporter": "python",
   "pygments_lexer": "ipython3",
   "version": "3.7.13"
  }
 },
 "nbformat": 4,
 "nbformat_minor": 2
}
