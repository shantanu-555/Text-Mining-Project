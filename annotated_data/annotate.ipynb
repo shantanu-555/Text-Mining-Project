{
 "cells": [
  {
   "cell_type": "markdown",
   "metadata": {},
   "source": [
    "## Easily annotate the data\n",
    "\n",
    "#### Put in name below:"
   ]
  },
  {
   "cell_type": "code",
   "execution_count": 2,
   "metadata": {},
   "outputs": [],
   "source": [
    "# put here either \"Luuk\", \"Shantanu\" or \"Eline\"\n",
    "name = \"Luuk\""
   ]
  },
  {
   "cell_type": "markdown",
   "metadata": {},
   "source": [
    "#### Function for annotation"
   ]
  },
  {
   "cell_type": "code",
   "execution_count": 24,
   "metadata": {},
   "outputs": [],
   "source": [
    "import csv\n",
    "import pandas as pd\n",
    "\n",
    "def annotate():\n",
    "    print(\"Please input the sentiment:\\n Negative=-1, Neutral=0, Positive=1\\nTo exit input 'Exit'\\n\")\n",
    "    df = pd.read_csv(f\"sample_{name}.csv\")\n",
    "    for line in df.itertuples(): \n",
    "        if not df.at[line.Index, \"Sentiment\"] in [-1,0,1]:\n",
    "            print(line.line_text, \"\\r\")\n",
    "            sentiment = input()\n",
    "            if sentiment.lower() == \"exit\":\n",
    "                break\n",
    "            try:\n",
    "                df.at[line.Index, \"Sentiment\"] = int(sentiment)\n",
    "            except:\n",
    "                print(\"invalid input\")\n",
    "    print(\"\\nWriting annotations to file...\")\n",
    "    n_annotated = df[\"Sentiment\"].count()\n",
    "    n_not_annotated = len(df) - n_annotated\n",
    "    print(f\"Annotated: {n_annotated} | Left: {n_not_annotated}\")\n",
    "    df.to_csv(f\"sample_{name}.csv\", index=False)\n",
    "    "
   ]
  },
  {
   "cell_type": "markdown",
   "metadata": {},
   "source": [
    "## Annotate here:"
   ]
  },
  {
   "cell_type": "code",
   "execution_count": null,
   "metadata": {},
   "outputs": [
    {
     "name": "stdout",
     "output_type": "stream",
     "text": [
      "Please input the sentiment:\n",
      " Negative=-1, Neutral=0, Positive=1\n",
      "To exit input 'Exit'\n",
      "\n",
      "Everyone, it is our last day here with no manager. I say we go to the mini mall. Clark, you will be my fake boyfriend so I can get the discount. \n",
      "0\n",
      "Mm. [walks into bathroom, Meredith is using her brest pump] Meredith! \n",
      "-1\n",
      "That's very rude. \n",
      "-1\n",
      "You're not? \n",
      "0\n",
      "Make the next right turn. \n",
      "0\n",
      "I would love to live in New York someday. It's a big dream of mine. Work for corporate, with Jan. It'd be awesome. Go to Broadway shows, eat hot dogs. Scranton is great, but New York, is like Scranton on acid, no on speed, no on steroids. [Michael sees it's the end of a street.] OK, umm, I think, that's either the Hudson or the East, so we're back,  should be back this way. There's a lotta pressure on me right now. It's like Michael Jordan, in the NBA finals. Or, like Stormin' Norman Schwarzkopf, and this presentation is desert storm and as soon as it's over, we will not have to deal with those Iraqis anymore. Let's do it. \n",
      "1\n",
      "I'll be right back I'm just going to grab my tool box. \n",
      "0\n",
      "Is it by the Sea of Tranquility? \n",
      "0\n",
      "Alright. \n",
      "1\n",
      "Well yeah, but what if we turned our mike packs? \n",
      "0\n",
      "[on phone] Say hello grandma. \n",
      "0\n",
      "So... [exhales] there are a lot of things that I would like to do differently. \n",
      "0\n",
      "That's the problem, that's the problem.  We need rock n' roll Pam, rock n' roll.  Alright? [sees Toby in a bow-tie holding a plate full of tea cups] Oh... My... God, that's why people are leaving.  I- I have no words. \n"
     ]
    }
   ],
   "source": [
    "annotate()"
   ]
  }
 ],
 "metadata": {
  "kernelspec": {
   "display_name": "Python 3 (ipykernel)",
   "language": "python",
   "name": "python3"
  },
  "language_info": {
   "codemirror_mode": {
    "name": "ipython",
    "version": 3
   },
   "file_extension": ".py",
   "mimetype": "text/x-python",
   "name": "python",
   "nbconvert_exporter": "python",
   "pygments_lexer": "ipython3",
   "version": "3.7.13"
  }
 },
 "nbformat": 4,
 "nbformat_minor": 2
}
