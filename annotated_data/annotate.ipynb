{
 "cells": [
  {
   "cell_type": "markdown",
   "metadata": {},
   "source": [
    "## Easily annotate the data\n",
    "\n",
    "#### Put in name below:"
   ]
  },
  {
   "cell_type": "code",
   "execution_count": 4,
   "metadata": {},
   "outputs": [],
   "source": [
    "# put here either \"Luuk\", \"Shantanu\" or \"Eline\"\n",
    "name = \"Shantanu\""
   ]
  },
  {
   "cell_type": "markdown",
   "metadata": {},
   "source": [
    "#### Function for annotation"
   ]
  },
  {
   "cell_type": "code",
   "execution_count": 5,
   "metadata": {},
   "outputs": [],
   "source": [
    "import csv\n",
    "import pandas as pd\n",
    "\n",
    "def annotate():\n",
    "    print(\"Please input the sentiment:\\n Negative=-1, Neutral=0, Positive=1\\nTo exit input 'Exit'\\n\")\n",
    "    df = pd.read_csv(f\"sample_{name}.csv\")\n",
    "    for line in df.itertuples(): \n",
    "        if not df.at[line.Index, \"Sentiment\"] in [-1,0,1]:\n",
    "            print(line.line_text, \"\\r\")\n",
    "            sentiment = input()\n",
    "            if sentiment.lower() == \"exit\":\n",
    "                break\n",
    "            try:\n",
    "                df.at[line.Index, \"Sentiment\"] = int(sentiment)\n",
    "            except:\n",
    "                print(\"invalid input\")\n",
    "    print(\"\\nWriting annotations to file...\")\n",
    "    n_annotated = df[\"Sentiment\"].count()\n",
    "    n_not_annotated = len(df) - n_annotated\n",
    "    print(f\"Annotated: {n_annotated} | Left: {n_not_annotated}\")\n",
    "    df.to_csv(f\"sample_{name}.csv\", index=False)\n",
    "    "
   ]
  },
  {
   "cell_type": "markdown",
   "metadata": {},
   "source": [
    "## Annotate here:"
   ]
  },
  {
   "cell_type": "code",
   "execution_count": 6,
   "metadata": {},
   "outputs": [
    {
     "name": "stdout",
     "output_type": "stream",
     "text": [
      "Please input the sentiment:\n",
      " Negative=-1, Neutral=0, Positive=1\n",
      "To exit input 'Exit'\n",
      "\n",
      "[sighs] Oh, sh... I'm sorry Angela. Man what a day huh? How could it get any worse? Her computer crashes with the porn, and then Meredith with the accident, and then... Sprinkles! God, that's 3 things. I'll tell you what's going on. This office is cursed, and we need to do something about it. \n",
      "Exit\n",
      "\n",
      "Writing annotations to file...\n",
      "Annotated: 17 | Left: 83\n"
     ]
    }
   ],
   "source": [
    "annotate()"
   ]
  }
 ],
 "metadata": {
  "kernelspec": {
   "display_name": "Python 3 (ipykernel)",
   "language": "python",
   "name": "python3"
  },
  "language_info": {
   "codemirror_mode": {
    "name": "ipython",
    "version": 3
   },
   "file_extension": ".py",
   "mimetype": "text/x-python",
   "name": "python",
   "nbconvert_exporter": "python",
   "pygments_lexer": "ipython3",
   "version": "3.8.16"
  }
 },
 "nbformat": 4,
 "nbformat_minor": 2
}
